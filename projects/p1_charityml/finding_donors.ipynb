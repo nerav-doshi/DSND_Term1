{
 "cells": [
  {
   "cell_type": "markdown",
   "metadata": {},
   "source": [
    "# Data Scientist Nanodegree\n",
    "## Supervised Learning\n",
    "## Project: Finding Donors for *CharityML*"
   ]
  },
  {
   "cell_type": "markdown",
   "metadata": {},
   "source": [
    "Welcome to the first project of the Data Scientist Nanodegree! In this notebook, some template code has already been provided for you, and it will be your job to implement the additional functionality necessary to successfully complete this project. Sections that begin with **'Implementation'** in the header indicate that the following block of code will require additional functionality which you must provide. Instructions will be provided for each section and the specifics of the implementation are marked in the code block with a `'TODO'` statement. Please be sure to read the instructions carefully!\n",
    "\n",
    "In addition to implementing code, there will be questions that you must answer which relate to the project and your implementation. Each section where you will answer a question is preceded by a **'Question X'** header. Carefully read each question and provide thorough answers in the following text boxes that begin with **'Answer:'**. Your project submission will be evaluated based on your answers to each of the questions and the implementation you provide.  \n",
    "\n",
    ">**Note:** Please specify WHICH VERSION OF PYTHON you are using when submitting this notebook. Code and Markdown cells can be executed using the **Shift + Enter** keyboard shortcut. In addition, Markdown cells can be edited by typically double-clicking the cell to enter edit mode."
   ]
  },
  {
   "cell_type": "markdown",
   "metadata": {},
   "source": [
    "## Getting Started\n",
    "\n",
    "In this project, you will employ several supervised algorithms of your choice to accurately model individuals' income using data collected from the 1994 U.S. Census. You will then choose the best candidate algorithm from preliminary results and further optimize this algorithm to best model the data. Your goal with this implementation is to construct a model that accurately predicts whether an individual makes more than $50,000. This sort of task can arise in a non-profit setting, where organizations survive on donations.  Understanding an individual's income can help a non-profit better understand how large of a donation to request, or whether or not they should reach out to begin with.  While it can be difficult to determine an individual's general income bracket directly from public sources, we can (as we will see) infer this value from other publically available features. \n",
    "\n",
    "The dataset for this project originates from the [UCI Machine Learning Repository](https://archive.ics.uci.edu/ml/datasets/Census+Income). The datset was donated by Ron Kohavi and Barry Becker, after being published in the article _\"Scaling Up the Accuracy of Naive-Bayes Classifiers: A Decision-Tree Hybrid\"_. You can find the article by Ron Kohavi [online](https://www.aaai.org/Papers/KDD/1996/KDD96-033.pdf). The data we investigate here consists of small changes to the original dataset, such as removing the `'fnlwgt'` feature and records with missing or ill-formatted entries."
   ]
  },
  {
   "cell_type": "markdown",
   "metadata": {},
   "source": [
    "----\n",
    "## Exploring the Data\n",
    "Run the code cell below to load necessary Python libraries and load the census data. Note that the last column from this dataset, `'income'`, will be our target label (whether an individual makes more than, or at most, $50,000 annually). All other columns are features about each individual in the census database."
   ]
  },
  {
   "cell_type": "code",
   "execution_count": 1,
   "metadata": {},
   "outputs": [
    {
     "name": "stdout",
     "output_type": "stream",
     "text": [
      "3.7.7 (v3.7.7:d7c567b08f, Mar 10 2020, 02:56:16) \n",
      "[Clang 6.0 (clang-600.0.57)]\n"
     ]
    }
   ],
   "source": [
    "import sys\n",
    "print(sys.version)"
   ]
  },
  {
   "cell_type": "code",
   "execution_count": 2,
   "metadata": {},
   "outputs": [
    {
     "data": {
      "text/html": [
       "<div>\n",
       "<style scoped>\n",
       "    .dataframe tbody tr th:only-of-type {\n",
       "        vertical-align: middle;\n",
       "    }\n",
       "\n",
       "    .dataframe tbody tr th {\n",
       "        vertical-align: top;\n",
       "    }\n",
       "\n",
       "    .dataframe thead th {\n",
       "        text-align: right;\n",
       "    }\n",
       "</style>\n",
       "<table border=\"1\" class=\"dataframe\">\n",
       "  <thead>\n",
       "    <tr style=\"text-align: right;\">\n",
       "      <th></th>\n",
       "      <th>age</th>\n",
       "      <th>workclass</th>\n",
       "      <th>education_level</th>\n",
       "      <th>education-num</th>\n",
       "      <th>marital-status</th>\n",
       "      <th>occupation</th>\n",
       "      <th>relationship</th>\n",
       "      <th>race</th>\n",
       "      <th>sex</th>\n",
       "      <th>capital-gain</th>\n",
       "      <th>capital-loss</th>\n",
       "      <th>hours-per-week</th>\n",
       "      <th>native-country</th>\n",
       "      <th>income</th>\n",
       "    </tr>\n",
       "  </thead>\n",
       "  <tbody>\n",
       "    <tr>\n",
       "      <th>0</th>\n",
       "      <td>39</td>\n",
       "      <td>State-gov</td>\n",
       "      <td>Bachelors</td>\n",
       "      <td>13.0</td>\n",
       "      <td>Never-married</td>\n",
       "      <td>Adm-clerical</td>\n",
       "      <td>Not-in-family</td>\n",
       "      <td>White</td>\n",
       "      <td>Male</td>\n",
       "      <td>2174.0</td>\n",
       "      <td>0.0</td>\n",
       "      <td>40.0</td>\n",
       "      <td>United-States</td>\n",
       "      <td>&lt;=50K</td>\n",
       "    </tr>\n",
       "  </tbody>\n",
       "</table>\n",
       "</div>"
      ],
      "text/plain": [
       "   age   workclass education_level  education-num  marital-status  \\\n",
       "0   39   State-gov       Bachelors           13.0   Never-married   \n",
       "\n",
       "      occupation    relationship    race    sex  capital-gain  capital-loss  \\\n",
       "0   Adm-clerical   Not-in-family   White   Male        2174.0           0.0   \n",
       "\n",
       "   hours-per-week  native-country income  \n",
       "0            40.0   United-States  <=50K  "
      ]
     },
     "metadata": {},
     "output_type": "display_data"
    }
   ],
   "source": [
    "# Import libraries necessary for this project\n",
    "import numpy as np\n",
    "import pandas as pd\n",
    "from time import time\n",
    "from IPython.display import display # Allows the use of display() for DataFrames\n",
    "\n",
    "# Import supplementary visualization code visuals.py\n",
    "import visuals as vs\n",
    "\n",
    "# Pretty display for notebooks\n",
    "%matplotlib inline\n",
    "\n",
    "# Load the Census dataset\n",
    "data = pd.read_csv(\"census.csv\")\n",
    "\n",
    "# Success - Display the first record\n",
    "display(data.head(n=1))"
   ]
  },
  {
   "cell_type": "markdown",
   "metadata": {},
   "source": [
    "### Implementation: Data Exploration\n",
    "A cursory investigation of the dataset will determine how many individuals fit into either group, and will tell us about the percentage of these individuals making more than \\$50,000. In the code cell below, you will need to compute the following:\n",
    "- The total number of records, `'n_records'`\n",
    "- The number of individuals making more than \\$50,000 annually, `'n_greater_50k'`.\n",
    "- The number of individuals making at most \\$50,000 annually, `'n_at_most_50k'`.\n",
    "- The percentage of individuals making more than \\$50,000 annually, `'greater_percent'`.\n",
    "\n",
    "** HINT: ** You may need to look at the table above to understand how the `'income'` entries are formatted. "
   ]
  },
  {
   "cell_type": "code",
   "execution_count": 3,
   "metadata": {},
   "outputs": [
    {
     "name": "stdout",
     "output_type": "stream",
     "text": [
      "Total number of records: 45222\n",
      "Individuals making more than $50,000: 11208\n",
      "Individuals making at most $50,000: 34014\n",
      "Percentage of individuals making more than $50,000: 24.78439697492371%\n"
     ]
    }
   ],
   "source": [
    "# TODO: Total number of records\n",
    "n_records = len(data)\n",
    "\n",
    "# TODO: Number of records where individual's income is more than $50,000\n",
    "n_greater_50k = len(data[data.income == '>50K'])\n",
    "\n",
    "# TODO: Number of records where individual's income is at most $50,000\n",
    "n_at_most_50k = len(data[data.income == '<=50K'])\n",
    "\n",
    "# TODO: Percentage of individuals whose income is more than $50,000\n",
    "greater_percent = (n_greater_50k/n_records)*100\n",
    "\n",
    "# Print the results\n",
    "print(\"Total number of records: {}\".format(n_records))\n",
    "print(\"Individuals making more than $50,000: {}\".format(n_greater_50k))\n",
    "print(\"Individuals making at most $50,000: {}\".format(n_at_most_50k))\n",
    "print(\"Percentage of individuals making more than $50,000: {}%\".format(greater_percent))"
   ]
  },
  {
   "cell_type": "markdown",
   "metadata": {},
   "source": [
    "** Featureset Exploration **\n",
    "\n",
    "* **age**: continuous. \n",
    "* **workclass**: Private, Self-emp-not-inc, Self-emp-inc, Federal-gov, Local-gov, State-gov, Without-pay, Never-worked. \n",
    "* **education**: Bachelors, Some-college, 11th, HS-grad, Prof-school, Assoc-acdm, Assoc-voc, 9th, 7th-8th, 12th, Masters, 1st-4th, 10th, Doctorate, 5th-6th, Preschool. \n",
    "* **education-num**: continuous. \n",
    "* **marital-status**: Married-civ-spouse, Divorced, Never-married, Separated, Widowed, Married-spouse-absent, Married-AF-spouse. \n",
    "* **occupation**: Tech-support, Craft-repair, Other-service, Sales, Exec-managerial, Prof-specialty, Handlers-cleaners, Machine-op-inspct, Adm-clerical, Farming-fishing, Transport-moving, Priv-house-serv, Protective-serv, Armed-Forces. \n",
    "* **relationship**: Wife, Own-child, Husband, Not-in-family, Other-relative, Unmarried. \n",
    "* **race**: Black, White, Asian-Pac-Islander, Amer-Indian-Eskimo, Other. \n",
    "* **sex**: Female, Male. \n",
    "* **capital-gain**: continuous. \n",
    "* **capital-loss**: continuous. \n",
    "* **hours-per-week**: continuous. \n",
    "* **native-country**: United-States, Cambodia, England, Puerto-Rico, Canada, Germany, Outlying-US(Guam-USVI-etc), India, Japan, Greece, South, China, Cuba, Iran, Honduras, Philippines, Italy, Poland, Jamaica, Vietnam, Mexico, Portugal, Ireland, France, Dominican-Republic, Laos, Ecuador, Taiwan, Haiti, Columbia, Hungary, Guatemala, Nicaragua, Scotland, Thailand, Yugoslavia, El-Salvador, Trinadad&Tobago, Peru, Hong, Holand-Netherlands."
   ]
  },
  {
   "cell_type": "markdown",
   "metadata": {},
   "source": [
    "----\n",
    "## Preparing the Data\n",
    "Before data can be used as input for machine learning algorithms, it often must be cleaned, formatted, and restructured — this is typically known as **preprocessing**. Fortunately, for this dataset, there are no invalid or missing entries we must deal with, however, there are some qualities about certain features that must be adjusted. This preprocessing can help tremendously with the outcome and predictive power of nearly all learning algorithms."
   ]
  },
  {
   "cell_type": "code",
   "execution_count": 4,
   "metadata": {},
   "outputs": [
    {
     "name": "stdout",
     "output_type": "stream",
     "text": [
      "Pixiedust database opened successfully\n"
     ]
    },
    {
     "data": {
      "text/html": [
       "\n",
       "        <div style=\"margin:10px\">\n",
       "            <a href=\"https://github.com/ibm-watson-data-lab/pixiedust\" target=\"_new\">\n",
       "                <img src=\"https://github.com/ibm-watson-data-lab/pixiedust/raw/master/docs/_static/pd_icon32.png\" style=\"float:left;margin-right:10px\"/>\n",
       "            </a>\n",
       "            <span>Pixiedust version 1.1.18</span>\n",
       "        </div>\n",
       "        "
      ],
      "text/plain": [
       "<IPython.core.display.HTML object>"
      ]
     },
     "metadata": {},
     "output_type": "display_data"
    },
    {
     "name": "stdout",
     "output_type": "stream",
     "text": [
      "Unable to check latest version <urlopen error [SSL: CERTIFICATE_VERIFY_FAILED] certificate verify failed: unable to get local issuer certificate (_ssl.c:1076)>\n"
     ]
    }
   ],
   "source": [
    "import pixiedust"
   ]
  },
  {
   "cell_type": "code",
   "execution_count": 5,
   "metadata": {},
   "outputs": [
    {
     "name": "stdout",
     "output_type": "stream",
     "text": [
      "Pixiedust will not collect anonymous install statistics.\n"
     ]
    }
   ],
   "source": [
    "pixiedust.optOut()"
   ]
  },
  {
   "cell_type": "code",
   "execution_count": 6,
   "metadata": {},
   "outputs": [
    {
     "data": {
      "text/html": [
       "<div>\n",
       "<style scoped>\n",
       "    .dataframe tbody tr th:only-of-type {\n",
       "        vertical-align: middle;\n",
       "    }\n",
       "\n",
       "    .dataframe tbody tr th {\n",
       "        vertical-align: top;\n",
       "    }\n",
       "\n",
       "    .dataframe thead th {\n",
       "        text-align: right;\n",
       "    }\n",
       "</style>\n",
       "<table border=\"1\" class=\"dataframe\">\n",
       "  <thead>\n",
       "    <tr style=\"text-align: right;\">\n",
       "      <th></th>\n",
       "      <th>age</th>\n",
       "      <th>education-num</th>\n",
       "      <th>capital-gain</th>\n",
       "      <th>capital-loss</th>\n",
       "      <th>hours-per-week</th>\n",
       "    </tr>\n",
       "  </thead>\n",
       "  <tbody>\n",
       "    <tr>\n",
       "      <th>count</th>\n",
       "      <td>45222.000000</td>\n",
       "      <td>45222.000000</td>\n",
       "      <td>45222.000000</td>\n",
       "      <td>45222.000000</td>\n",
       "      <td>45222.000000</td>\n",
       "    </tr>\n",
       "    <tr>\n",
       "      <th>mean</th>\n",
       "      <td>38.547941</td>\n",
       "      <td>10.118460</td>\n",
       "      <td>1101.430344</td>\n",
       "      <td>88.595418</td>\n",
       "      <td>40.938017</td>\n",
       "    </tr>\n",
       "    <tr>\n",
       "      <th>std</th>\n",
       "      <td>13.217870</td>\n",
       "      <td>2.552881</td>\n",
       "      <td>7506.430084</td>\n",
       "      <td>404.956092</td>\n",
       "      <td>12.007508</td>\n",
       "    </tr>\n",
       "    <tr>\n",
       "      <th>min</th>\n",
       "      <td>17.000000</td>\n",
       "      <td>1.000000</td>\n",
       "      <td>0.000000</td>\n",
       "      <td>0.000000</td>\n",
       "      <td>1.000000</td>\n",
       "    </tr>\n",
       "    <tr>\n",
       "      <th>25%</th>\n",
       "      <td>28.000000</td>\n",
       "      <td>9.000000</td>\n",
       "      <td>0.000000</td>\n",
       "      <td>0.000000</td>\n",
       "      <td>40.000000</td>\n",
       "    </tr>\n",
       "    <tr>\n",
       "      <th>50%</th>\n",
       "      <td>37.000000</td>\n",
       "      <td>10.000000</td>\n",
       "      <td>0.000000</td>\n",
       "      <td>0.000000</td>\n",
       "      <td>40.000000</td>\n",
       "    </tr>\n",
       "    <tr>\n",
       "      <th>75%</th>\n",
       "      <td>47.000000</td>\n",
       "      <td>13.000000</td>\n",
       "      <td>0.000000</td>\n",
       "      <td>0.000000</td>\n",
       "      <td>45.000000</td>\n",
       "    </tr>\n",
       "    <tr>\n",
       "      <th>max</th>\n",
       "      <td>90.000000</td>\n",
       "      <td>16.000000</td>\n",
       "      <td>99999.000000</td>\n",
       "      <td>4356.000000</td>\n",
       "      <td>99.000000</td>\n",
       "    </tr>\n",
       "  </tbody>\n",
       "</table>\n",
       "</div>"
      ],
      "text/plain": [
       "                age  education-num  capital-gain  capital-loss  hours-per-week\n",
       "count  45222.000000   45222.000000  45222.000000  45222.000000    45222.000000\n",
       "mean      38.547941      10.118460   1101.430344     88.595418       40.938017\n",
       "std       13.217870       2.552881   7506.430084    404.956092       12.007508\n",
       "min       17.000000       1.000000      0.000000      0.000000        1.000000\n",
       "25%       28.000000       9.000000      0.000000      0.000000       40.000000\n",
       "50%       37.000000      10.000000      0.000000      0.000000       40.000000\n",
       "75%       47.000000      13.000000      0.000000      0.000000       45.000000\n",
       "max       90.000000      16.000000  99999.000000   4356.000000       99.000000"
      ]
     },
     "execution_count": 6,
     "metadata": {},
     "output_type": "execute_result"
    }
   ],
   "source": [
    "data.describe()"
   ]
  },
  {
   "cell_type": "code",
   "execution_count": 7,
   "metadata": {},
   "outputs": [
    {
     "data": {
      "text/html": [
       "<div>\n",
       "<style scoped>\n",
       "    .dataframe tbody tr th:only-of-type {\n",
       "        vertical-align: middle;\n",
       "    }\n",
       "\n",
       "    .dataframe tbody tr th {\n",
       "        vertical-align: top;\n",
       "    }\n",
       "\n",
       "    .dataframe thead th {\n",
       "        text-align: right;\n",
       "    }\n",
       "</style>\n",
       "<table border=\"1\" class=\"dataframe\">\n",
       "  <thead>\n",
       "    <tr style=\"text-align: right;\">\n",
       "      <th></th>\n",
       "      <th>age</th>\n",
       "      <th>education-num</th>\n",
       "      <th>capital-gain</th>\n",
       "      <th>capital-loss</th>\n",
       "      <th>hours-per-week</th>\n",
       "    </tr>\n",
       "  </thead>\n",
       "  <tbody>\n",
       "    <tr>\n",
       "      <th>age</th>\n",
       "      <td>1.000000</td>\n",
       "      <td>0.037623</td>\n",
       "      <td>0.079683</td>\n",
       "      <td>0.059351</td>\n",
       "      <td>0.101992</td>\n",
       "    </tr>\n",
       "    <tr>\n",
       "      <th>education-num</th>\n",
       "      <td>0.037623</td>\n",
       "      <td>1.000000</td>\n",
       "      <td>0.126907</td>\n",
       "      <td>0.081711</td>\n",
       "      <td>0.146206</td>\n",
       "    </tr>\n",
       "    <tr>\n",
       "      <th>capital-gain</th>\n",
       "      <td>0.079683</td>\n",
       "      <td>0.126907</td>\n",
       "      <td>1.000000</td>\n",
       "      <td>-0.032102</td>\n",
       "      <td>0.083880</td>\n",
       "    </tr>\n",
       "    <tr>\n",
       "      <th>capital-loss</th>\n",
       "      <td>0.059351</td>\n",
       "      <td>0.081711</td>\n",
       "      <td>-0.032102</td>\n",
       "      <td>1.000000</td>\n",
       "      <td>0.054195</td>\n",
       "    </tr>\n",
       "    <tr>\n",
       "      <th>hours-per-week</th>\n",
       "      <td>0.101992</td>\n",
       "      <td>0.146206</td>\n",
       "      <td>0.083880</td>\n",
       "      <td>0.054195</td>\n",
       "      <td>1.000000</td>\n",
       "    </tr>\n",
       "  </tbody>\n",
       "</table>\n",
       "</div>"
      ],
      "text/plain": [
       "                     age  education-num  capital-gain  capital-loss  \\\n",
       "age             1.000000       0.037623      0.079683      0.059351   \n",
       "education-num   0.037623       1.000000      0.126907      0.081711   \n",
       "capital-gain    0.079683       0.126907      1.000000     -0.032102   \n",
       "capital-loss    0.059351       0.081711     -0.032102      1.000000   \n",
       "hours-per-week  0.101992       0.146206      0.083880      0.054195   \n",
       "\n",
       "                hours-per-week  \n",
       "age                   0.101992  \n",
       "education-num         0.146206  \n",
       "capital-gain          0.083880  \n",
       "capital-loss          0.054195  \n",
       "hours-per-week        1.000000  "
      ]
     },
     "execution_count": 7,
     "metadata": {},
     "output_type": "execute_result"
    }
   ],
   "source": [
    "# pairwise correlation of numerical columns\n",
    "data.corr()"
   ]
  },
  {
   "cell_type": "code",
   "execution_count": 8,
   "metadata": {},
   "outputs": [
    {
     "data": {
      "text/html": [
       "<div>\n",
       "<style scoped>\n",
       "    .dataframe tbody tr th:only-of-type {\n",
       "        vertical-align: middle;\n",
       "    }\n",
       "\n",
       "    .dataframe tbody tr th {\n",
       "        vertical-align: top;\n",
       "    }\n",
       "\n",
       "    .dataframe thead th {\n",
       "        text-align: right;\n",
       "    }\n",
       "</style>\n",
       "<table border=\"1\" class=\"dataframe\">\n",
       "  <thead>\n",
       "    <tr style=\"text-align: right;\">\n",
       "      <th></th>\n",
       "      <th>age</th>\n",
       "      <th>workclass</th>\n",
       "      <th>education_level</th>\n",
       "      <th>education-num</th>\n",
       "      <th>marital-status</th>\n",
       "      <th>occupation</th>\n",
       "      <th>relationship</th>\n",
       "      <th>race</th>\n",
       "      <th>sex</th>\n",
       "      <th>capital-gain</th>\n",
       "      <th>capital-loss</th>\n",
       "      <th>hours-per-week</th>\n",
       "      <th>native-country</th>\n",
       "      <th>income</th>\n",
       "    </tr>\n",
       "  </thead>\n",
       "  <tbody>\n",
       "    <tr>\n",
       "      <th>0</th>\n",
       "      <td>39</td>\n",
       "      <td>State-gov</td>\n",
       "      <td>Bachelors</td>\n",
       "      <td>13.0</td>\n",
       "      <td>Never-married</td>\n",
       "      <td>Adm-clerical</td>\n",
       "      <td>Not-in-family</td>\n",
       "      <td>White</td>\n",
       "      <td>Male</td>\n",
       "      <td>2174.0</td>\n",
       "      <td>0.0</td>\n",
       "      <td>40.0</td>\n",
       "      <td>United-States</td>\n",
       "      <td>&lt;=50K</td>\n",
       "    </tr>\n",
       "    <tr>\n",
       "      <th>1</th>\n",
       "      <td>50</td>\n",
       "      <td>Self-emp-not-inc</td>\n",
       "      <td>Bachelors</td>\n",
       "      <td>13.0</td>\n",
       "      <td>Married-civ-spouse</td>\n",
       "      <td>Exec-managerial</td>\n",
       "      <td>Husband</td>\n",
       "      <td>White</td>\n",
       "      <td>Male</td>\n",
       "      <td>0.0</td>\n",
       "      <td>0.0</td>\n",
       "      <td>13.0</td>\n",
       "      <td>United-States</td>\n",
       "      <td>&lt;=50K</td>\n",
       "    </tr>\n",
       "    <tr>\n",
       "      <th>2</th>\n",
       "      <td>38</td>\n",
       "      <td>Private</td>\n",
       "      <td>HS-grad</td>\n",
       "      <td>9.0</td>\n",
       "      <td>Divorced</td>\n",
       "      <td>Handlers-cleaners</td>\n",
       "      <td>Not-in-family</td>\n",
       "      <td>White</td>\n",
       "      <td>Male</td>\n",
       "      <td>0.0</td>\n",
       "      <td>0.0</td>\n",
       "      <td>40.0</td>\n",
       "      <td>United-States</td>\n",
       "      <td>&lt;=50K</td>\n",
       "    </tr>\n",
       "    <tr>\n",
       "      <th>3</th>\n",
       "      <td>53</td>\n",
       "      <td>Private</td>\n",
       "      <td>11th</td>\n",
       "      <td>7.0</td>\n",
       "      <td>Married-civ-spouse</td>\n",
       "      <td>Handlers-cleaners</td>\n",
       "      <td>Husband</td>\n",
       "      <td>Black</td>\n",
       "      <td>Male</td>\n",
       "      <td>0.0</td>\n",
       "      <td>0.0</td>\n",
       "      <td>40.0</td>\n",
       "      <td>United-States</td>\n",
       "      <td>&lt;=50K</td>\n",
       "    </tr>\n",
       "    <tr>\n",
       "      <th>4</th>\n",
       "      <td>28</td>\n",
       "      <td>Private</td>\n",
       "      <td>Bachelors</td>\n",
       "      <td>13.0</td>\n",
       "      <td>Married-civ-spouse</td>\n",
       "      <td>Prof-specialty</td>\n",
       "      <td>Wife</td>\n",
       "      <td>Black</td>\n",
       "      <td>Female</td>\n",
       "      <td>0.0</td>\n",
       "      <td>0.0</td>\n",
       "      <td>40.0</td>\n",
       "      <td>Cuba</td>\n",
       "      <td>&lt;=50K</td>\n",
       "    </tr>\n",
       "    <tr>\n",
       "      <th>...</th>\n",
       "      <td>...</td>\n",
       "      <td>...</td>\n",
       "      <td>...</td>\n",
       "      <td>...</td>\n",
       "      <td>...</td>\n",
       "      <td>...</td>\n",
       "      <td>...</td>\n",
       "      <td>...</td>\n",
       "      <td>...</td>\n",
       "      <td>...</td>\n",
       "      <td>...</td>\n",
       "      <td>...</td>\n",
       "      <td>...</td>\n",
       "      <td>...</td>\n",
       "    </tr>\n",
       "    <tr>\n",
       "      <th>45217</th>\n",
       "      <td>33</td>\n",
       "      <td>Private</td>\n",
       "      <td>Bachelors</td>\n",
       "      <td>13.0</td>\n",
       "      <td>Never-married</td>\n",
       "      <td>Prof-specialty</td>\n",
       "      <td>Own-child</td>\n",
       "      <td>White</td>\n",
       "      <td>Male</td>\n",
       "      <td>0.0</td>\n",
       "      <td>0.0</td>\n",
       "      <td>40.0</td>\n",
       "      <td>United-States</td>\n",
       "      <td>&lt;=50K</td>\n",
       "    </tr>\n",
       "    <tr>\n",
       "      <th>45218</th>\n",
       "      <td>39</td>\n",
       "      <td>Private</td>\n",
       "      <td>Bachelors</td>\n",
       "      <td>13.0</td>\n",
       "      <td>Divorced</td>\n",
       "      <td>Prof-specialty</td>\n",
       "      <td>Not-in-family</td>\n",
       "      <td>White</td>\n",
       "      <td>Female</td>\n",
       "      <td>0.0</td>\n",
       "      <td>0.0</td>\n",
       "      <td>36.0</td>\n",
       "      <td>United-States</td>\n",
       "      <td>&lt;=50K</td>\n",
       "    </tr>\n",
       "    <tr>\n",
       "      <th>45219</th>\n",
       "      <td>38</td>\n",
       "      <td>Private</td>\n",
       "      <td>Bachelors</td>\n",
       "      <td>13.0</td>\n",
       "      <td>Married-civ-spouse</td>\n",
       "      <td>Prof-specialty</td>\n",
       "      <td>Husband</td>\n",
       "      <td>White</td>\n",
       "      <td>Male</td>\n",
       "      <td>0.0</td>\n",
       "      <td>0.0</td>\n",
       "      <td>50.0</td>\n",
       "      <td>United-States</td>\n",
       "      <td>&lt;=50K</td>\n",
       "    </tr>\n",
       "    <tr>\n",
       "      <th>45220</th>\n",
       "      <td>44</td>\n",
       "      <td>Private</td>\n",
       "      <td>Bachelors</td>\n",
       "      <td>13.0</td>\n",
       "      <td>Divorced</td>\n",
       "      <td>Adm-clerical</td>\n",
       "      <td>Own-child</td>\n",
       "      <td>Asian-Pac-Islander</td>\n",
       "      <td>Male</td>\n",
       "      <td>5455.0</td>\n",
       "      <td>0.0</td>\n",
       "      <td>40.0</td>\n",
       "      <td>United-States</td>\n",
       "      <td>&lt;=50K</td>\n",
       "    </tr>\n",
       "    <tr>\n",
       "      <th>45221</th>\n",
       "      <td>35</td>\n",
       "      <td>Self-emp-inc</td>\n",
       "      <td>Bachelors</td>\n",
       "      <td>13.0</td>\n",
       "      <td>Married-civ-spouse</td>\n",
       "      <td>Exec-managerial</td>\n",
       "      <td>Husband</td>\n",
       "      <td>White</td>\n",
       "      <td>Male</td>\n",
       "      <td>0.0</td>\n",
       "      <td>0.0</td>\n",
       "      <td>60.0</td>\n",
       "      <td>United-States</td>\n",
       "      <td>&gt;50K</td>\n",
       "    </tr>\n",
       "  </tbody>\n",
       "</table>\n",
       "<p>45222 rows × 14 columns</p>\n",
       "</div>"
      ],
      "text/plain": [
       "       age          workclass education_level  education-num  \\\n",
       "0       39          State-gov       Bachelors           13.0   \n",
       "1       50   Self-emp-not-inc       Bachelors           13.0   \n",
       "2       38            Private         HS-grad            9.0   \n",
       "3       53            Private            11th            7.0   \n",
       "4       28            Private       Bachelors           13.0   \n",
       "...    ...                ...             ...            ...   \n",
       "45217   33            Private       Bachelors           13.0   \n",
       "45218   39            Private       Bachelors           13.0   \n",
       "45219   38            Private       Bachelors           13.0   \n",
       "45220   44            Private       Bachelors           13.0   \n",
       "45221   35       Self-emp-inc       Bachelors           13.0   \n",
       "\n",
       "            marital-status          occupation    relationship  \\\n",
       "0            Never-married        Adm-clerical   Not-in-family   \n",
       "1       Married-civ-spouse     Exec-managerial         Husband   \n",
       "2                 Divorced   Handlers-cleaners   Not-in-family   \n",
       "3       Married-civ-spouse   Handlers-cleaners         Husband   \n",
       "4       Married-civ-spouse      Prof-specialty            Wife   \n",
       "...                    ...                 ...             ...   \n",
       "45217        Never-married      Prof-specialty       Own-child   \n",
       "45218             Divorced      Prof-specialty   Not-in-family   \n",
       "45219   Married-civ-spouse      Prof-specialty         Husband   \n",
       "45220             Divorced        Adm-clerical       Own-child   \n",
       "45221   Married-civ-spouse     Exec-managerial         Husband   \n",
       "\n",
       "                      race      sex  capital-gain  capital-loss  \\\n",
       "0                    White     Male        2174.0           0.0   \n",
       "1                    White     Male           0.0           0.0   \n",
       "2                    White     Male           0.0           0.0   \n",
       "3                    Black     Male           0.0           0.0   \n",
       "4                    Black   Female           0.0           0.0   \n",
       "...                    ...      ...           ...           ...   \n",
       "45217                White     Male           0.0           0.0   \n",
       "45218                White   Female           0.0           0.0   \n",
       "45219                White     Male           0.0           0.0   \n",
       "45220   Asian-Pac-Islander     Male        5455.0           0.0   \n",
       "45221                White     Male           0.0           0.0   \n",
       "\n",
       "       hours-per-week  native-country income  \n",
       "0                40.0   United-States  <=50K  \n",
       "1                13.0   United-States  <=50K  \n",
       "2                40.0   United-States  <=50K  \n",
       "3                40.0   United-States  <=50K  \n",
       "4                40.0            Cuba  <=50K  \n",
       "...               ...             ...    ...  \n",
       "45217            40.0   United-States  <=50K  \n",
       "45218            36.0   United-States  <=50K  \n",
       "45219            50.0   United-States  <=50K  \n",
       "45220            40.0   United-States  <=50K  \n",
       "45221            60.0   United-States   >50K  \n",
       "\n",
       "[45222 rows x 14 columns]"
      ]
     },
     "metadata": {},
     "output_type": "display_data"
    }
   ],
   "source": [
    "display(data)"
   ]
  },
  {
   "cell_type": "code",
   "execution_count": 9,
   "metadata": {},
   "outputs": [],
   "source": [
    "import pixiedust\n",
    "from pixiedust.display import *"
   ]
  },
  {
   "cell_type": "code",
   "execution_count": 10,
   "metadata": {
    "pixiedust": {
     "displayParams": {
      "chartsize": "99",
      "clusterby": "income",
      "filter": "{}",
      "handlerId": "barChart",
      "keyFields": "age",
      "mpld3": "false",
      "no_margin": "true",
      "sortby": "Keys ASC",
      "timeseries": "false",
      "valueFields": "hours-per-week"
     }
    }
   },
   "outputs": [
    {
     "data": {
      "text/html": [
       "<style type=\"text/css\">.pd_warning{display:none;}</style><div class=\"pd_warning\"><em>Hey, there's something awesome here! To see it, open this notebook outside GitHub, in a viewer like Jupyter</em></div>\n",
       "        <div class=\"pd_save is-viewer-good\" style=\"padding-right:10px;text-align: center;line-height:initial !important;font-size: xx-large;font-weight: 500;color: coral;\">\n",
       "            \n",
       "        </div>\n",
       "    <div id=\"chartFigureedfede9d\" class=\"pd_save is-viewer-good\" style=\"overflow-x:auto\">\n",
       "            \n",
       "                    \n",
       "                            <center><img style=\"max-width:initial !important\" src=\"data:image/png;base64,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\" class=\"pd_save\"></center>\n",
       "                        \n",
       "                    \n",
       "                \n",
       "        </div>"
      ],
      "text/plain": [
       "<IPython.core.display.HTML object>"
      ]
     },
     "metadata": {},
     "output_type": "display_data"
    }
   ],
   "source": [
    "display(data)"
   ]
  },
  {
   "cell_type": "code",
   "execution_count": 11,
   "metadata": {
    "pixiedust": {
     "displayParams": {
      "clusterby": "education_level",
      "handlerId": "barChart",
      "keyFields": "income",
      "valueFields": "capital-gain"
     }
    }
   },
   "outputs": [
    {
     "data": {
      "text/html": [
       "<style type=\"text/css\">.pd_warning{display:none;}</style><div class=\"pd_warning\"><em>Hey, there's something awesome here! To see it, open this notebook outside GitHub, in a viewer like Jupyter</em></div>\n",
       "        <div class=\"pd_save is-viewer-good\" style=\"padding-right:10px;text-align: center;line-height:initial !important;font-size: xx-large;font-weight: 500;color: coral;\">\n",
       "            \n",
       "        </div>\n",
       "    <div id=\"chartFigurefdc1a210\" class=\"pd_save is-viewer-good\" style=\"overflow-x:auto\">\n",
       "            \n",
       "                    \n",
       "                            <center><img style=\"max-width:initial !important\" src=\"data:image/png;base64,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\" class=\"pd_save\"></center>\n",
       "                        \n",
       "                    \n",
       "                \n",
       "        </div>"
      ],
      "text/plain": [
       "<IPython.core.display.HTML object>"
      ]
     },
     "metadata": {},
     "output_type": "display_data"
    }
   ],
   "source": [
    "display(data)"
   ]
  },
  {
   "cell_type": "code",
   "execution_count": 12,
   "metadata": {
    "pixiedust": {
     "displayParams": {
      "clusterby": "marital-status",
      "handlerId": "barChart",
      "keyFields": "income",
      "valueFields": "capital-loss"
     }
    }
   },
   "outputs": [
    {
     "data": {
      "text/html": [
       "<style type=\"text/css\">.pd_warning{display:none;}</style><div class=\"pd_warning\"><em>Hey, there's something awesome here! To see it, open this notebook outside GitHub, in a viewer like Jupyter</em></div>\n",
       "        <div class=\"pd_save is-viewer-good\" style=\"padding-right:10px;text-align: center;line-height:initial !important;font-size: xx-large;font-weight: 500;color: coral;\">\n",
       "            \n",
       "        </div>\n",
       "    <div id=\"chartFigure3c847729\" class=\"pd_save is-viewer-good\" style=\"overflow-x:auto\">\n",
       "            \n",
       "                    \n",
       "                            <center><img style=\"max-width:initial !important\" src=\"data:image/png;base64,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\" class=\"pd_save\"></center>\n",
       "                        \n",
       "                    \n",
       "                \n",
       "        </div>"
      ],
      "text/plain": [
       "<IPython.core.display.HTML object>"
      ]
     },
     "metadata": {},
     "output_type": "display_data"
    }
   ],
   "source": [
    "display(data)"
   ]
  },
  {
   "cell_type": "code",
   "execution_count": 13,
   "metadata": {},
   "outputs": [],
   "source": [
    "import seaborn as sns\n",
    "import matplotlib.pyplot as plt"
   ]
  },
  {
   "cell_type": "code",
   "execution_count": 14,
   "metadata": {},
   "outputs": [
    {
     "data": {
      "image/png": "[encoded data removed]",
      "text/plain": [
       "<Figure size 1440x720 with 1 Axes>"
      ]
     },
     "metadata": {},
     "output_type": "display_data"
    }
   ],
   "source": [
    "# Plot Tenure Frequency count\n",
    "sns.set(style=\"darkgrid\")\n",
    "sns.set_palette(\"hls\", 3)\n",
    "fig, ax = plt.subplots(figsize=(20,10))\n",
    "ax = sns.countplot(x=\"age\", hue=\"income\", data=data)"
   ]
  },
  {
   "cell_type": "markdown",
   "metadata": {},
   "source": [
    "### Transforming Skewed Continuous Features\n",
    "A dataset may sometimes contain at least one feature whose values tend to lie near a single number, but will also have a non-trivial number of vastly larger or smaller values than that single number.  Algorithms can be sensitive to such distributions of values and can underperform if the range is not properly normalized. With the census dataset two features fit this description: '`capital-gain'` and `'capital-loss'`. \n",
    "\n",
    "Run the code cell below to plot a histogram of these two features. Note the range of the values present and how they are distributed."
   ]
  },
  {
   "cell_type": "code",
   "execution_count": 15,
   "metadata": {},
   "outputs": [
    {
     "name": "stderr",
     "output_type": "stream",
     "text": [
      "/Users/nerav/Documents/GitHub/DSND_Term1/projects/p1_charityml/visuals.py:48: UserWarning: Matplotlib is currently using module://ipykernel.pylab.backend_inline, which is a non-GUI backend, so cannot show the figure.\n",
      "  fig.show()\n"
     ]
    },
    {
     "data": {
      "image/png": "[encoded data removed]",
      "text/plain": [
       "<Figure size 792x360 with 2 Axes>"
      ]
     },
     "metadata": {},
     "output_type": "display_data"
    }
   ],
   "source": [
    "# Split the data into features and target label\n",
    "income_raw = data['income']\n",
    "features_raw = data.drop('income', axis = 1)\n",
    "\n",
    "# Visualize skewed continuous features of original data\n",
    "vs.distribution(data)"
   ]
  },
  {
   "cell_type": "markdown",
   "metadata": {},
   "source": [
    "For highly-skewed feature distributions such as `'capital-gain'` and `'capital-loss'`, it is common practice to apply a <a href=\"https://en.wikipedia.org/wiki/Data_transformation_(statistics)\">logarithmic transformation</a> on the data so that the very large and very small values do not negatively affect the performance of a learning algorithm. Using a logarithmic transformation significantly reduces the range of values caused by outliers. Care must be taken when applying this transformation however: The logarithm of `0` is undefined, so we must translate the values by a small amount above `0` to apply the the logarithm successfully.\n",
    "\n",
    "Run the code cell below to perform a transformation on the data and visualize the results. Again, note the range of values and how they are distributed. "
   ]
  },
  {
   "cell_type": "code",
   "execution_count": 16,
   "metadata": {},
   "outputs": [
    {
     "data": {
      "image/png": "[encoded data removed]",
      "text/plain": [
       "<Figure size 792x360 with 2 Axes>"
      ]
     },
     "metadata": {},
     "output_type": "display_data"
    }
   ],
   "source": [
    "# Log-transform the skewed features\n",
    "skewed = ['capital-gain', 'capital-loss']\n",
    "features_log_transformed = pd.DataFrame(data = features_raw)\n",
    "features_log_transformed[skewed] = features_raw[skewed].apply(lambda x: np.log(x + 1))\n",
    "\n",
    "# Visualize the new log distributions\n",
    "vs.distribution(features_log_transformed, transformed = True)"
   ]
  },
  {
   "cell_type": "markdown",
   "metadata": {},
   "source": [
    "### Normalizing Numerical Features\n",
    "In addition to performing transformations on features that are highly skewed, it is often good practice to perform some type of scaling on numerical features. Applying a scaling to the data does not change the shape of each feature's distribution (such as `'capital-gain'` or `'capital-loss'` above); however, normalization ensures that each feature is treated equally when applying supervised learners. Note that once scaling is applied, observing the data in its raw form will no longer have the same original meaning, as exampled below.\n",
    "\n",
    "Run the code cell below to normalize each numerical feature. We will use [`sklearn.preprocessing.MinMaxScaler`](http://scikit-learn.org/stable/modules/generated/sklearn.preprocessing.MinMaxScaler.html) for this."
   ]
  },
  {
   "cell_type": "code",
   "execution_count": 17,
   "metadata": {
    "pixiedust": {
     "displayParams": {
      "handlerId": "tableView"
     }
    }
   },
   "outputs": [
    {
     "data": {
      "text/html": [
       "<style type=\"text/css\">.pd_warning{display:none;}</style><div class=\"pd_warning\"><em>Hey, there's something awesome here! To see it, open this notebook outside GitHub, in a viewer like Jupyter</em></div>\n",
       "        <div class=\"pd_save is-viewer-good\" style=\"padding-right:10px;text-align: center;line-height:initial !important;font-size: xx-large;font-weight: 500;color: coral;\">\n",
       "            \n",
       "        </div>\n",
       "    <div id=\"chartFigured58a4f32\" class=\"pd_save is-viewer-good\" style=\"overflow-x:auto\">\n",
       "            <style type=\"text/css\" class=\"pd_save\">\n",
       "    .df-table-wrapper .panel-heading {\n",
       "      border-radius: 0;\n",
       "      padding: 0px;\n",
       "    }\n",
       "    .df-table-wrapper .panel-heading:hover {\n",
       "      border-color: #008571;\n",
       "    }\n",
       "    .df-table-wrapper .panel-title a {\n",
       "      background-color: #f9f9fb;\n",
       "      color: #333333;\n",
       "      display: block;\n",
       "      outline: none;\n",
       "      padding: 10px 15px;\n",
       "      text-decoration: none;\n",
       "    }\n",
       "    .df-table-wrapper .panel-title a:hover {\n",
       "      background-color: #337ab7;\n",
       "      border-color: #2e6da4;\n",
       "      color: #ffffff;\n",
       "      display: block;\n",
       "      padding: 10px 15px;\n",
       "      text-decoration: none;\n",
       "    }\n",
       "    .df-table-wrapper {\n",
       "      font-size: small;\n",
       "      font-weight: 300;\n",
       "      letter-spacing: 0.5px;\n",
       "      line-height: normal;\n",
       "      height: inherit;\n",
       "      overflow: auto;\n",
       "    }\n",
       "    .df-table-search {\n",
       "      margin: 0 0 20px 0;\n",
       "    }\n",
       "    .df-table-search-count {\n",
       "      display: inline-block;\n",
       "      margin: 0 0 20px 0;\n",
       "    }\n",
       "    .df-table-container {\n",
       "      max-height: 50vh;\n",
       "      max-width: 100%;\n",
       "      overflow-x: auto;\n",
       "      position: relative;\n",
       "    }\n",
       "    .df-table-wrapper table {\n",
       "      border: 0 none #ffffff;\n",
       "      border-collapse: collapse;\n",
       "      margin: 0;\n",
       "      min-width: 100%;\n",
       "      padding: 0;\n",
       "      table-layout: fixed;\n",
       "      height: inherit;\n",
       "      overflow: auto;\n",
       "    }\n",
       "    .df-table-wrapper tr.hidden {\n",
       "      display: none;\n",
       "    }\n",
       "    .df-table-wrapper tr:nth-child(even) {\n",
       "      background-color: #f9f9fb;\n",
       "    }\n",
       "    .df-table-wrapper tr.even {\n",
       "      background-color: #f9f9fb;\n",
       "    }\n",
       "    .df-table-wrapper tr.odd {\n",
       "      background-color: #ffffff;\n",
       "    }\n",
       "    .df-table-wrapper td + td {\n",
       "      border-left: 1px solid #e0e0e0;\n",
       "    }\n",
       "  \n",
       "    .df-table-wrapper thead,\n",
       "    .fixed-header {\n",
       "      font-weight: 600;\n",
       "    }\n",
       "    .df-table-wrapper tr,\n",
       "    .fixed-row {\n",
       "      border: 0 none #ffffff;\n",
       "      margin: 0;\n",
       "      padding: 0;\n",
       "    }\n",
       "    .df-table-wrapper th,\n",
       "    .df-table-wrapper td,\n",
       "    .fixed-cell {\n",
       "      border: 0 none #ffffff;\n",
       "      margin: 0;\n",
       "      min-width: 50px;\n",
       "      padding: 5px 20px 5px 10px;\n",
       "      text-align: left;\n",
       "      word-wrap: break-word;\n",
       "    }\n",
       "    .df-table-wrapper th {\n",
       "      padding-bottom: 0;\n",
       "      padding-top: 0;\n",
       "    }\n",
       "    .df-table-wrapper th div {\n",
       "      max-height: 1px;\n",
       "      visibility: hidden;\n",
       "    }\n",
       "  \n",
       "    .df-schema-field {\n",
       "      margin-left: 10px;\n",
       "    }\n",
       "  \n",
       "    .fixed-header-container {\n",
       "      overflow: hidden;\n",
       "      position: relative;\n",
       "    }\n",
       "    .fixed-header {\n",
       "      border-bottom: 2px solid #000;\n",
       "      display: table;\n",
       "      position: relative;\n",
       "    }\n",
       "    .fixed-row {\n",
       "      display: table-row;\n",
       "    }\n",
       "    .fixed-cell {\n",
       "      display: table-cell;\n",
       "    }\n",
       "  </style>\n",
       "  \n",
       "  \n",
       "  \n",
       "  <div class=\"df-table-wrapper df-table-wrapper-d58a4f32 panel-group pd_save\">\n",
       "    <!-- dataframe schema -->\n",
       "    \n",
       "    <div class=\"panel panel-default\">\n",
       "      <div class=\"panel-heading\">\n",
       "        <h4 class=\"panel-title\" style=\"margin: 0px;\">\n",
       "          <a data-toggle=\"collapse\" href=\"#df-schema-d58a4f32\" data-parent=\"#df-table-wrapper-d58a4f32\">Schema</a>\n",
       "        </h4>\n",
       "      </div>\n",
       "      <div id=\"df-schema-d58a4f32\" class=\"panel-collapse collapse\">\n",
       "        <div class=\"panel-body\" style=\"font-family: monospace;\">\n",
       "          <div class=\"df-schema-fields\">\n",
       "            <div>Field types:</div>\n",
       "            \n",
       "              <div class=\"df-schema-field\"><strong>age: </strong> float64</div>\n",
       "            \n",
       "              <div class=\"df-schema-field\"><strong>workclass: </strong> object</div>\n",
       "            \n",
       "              <div class=\"df-schema-field\"><strong>education_level: </strong> object</div>\n",
       "            \n",
       "              <div class=\"df-schema-field\"><strong>education-num: </strong> float64</div>\n",
       "            \n",
       "              <div class=\"df-schema-field\"><strong>marital-status: </strong> object</div>\n",
       "            \n",
       "              <div class=\"df-schema-field\"><strong>occupation: </strong> object</div>\n",
       "            \n",
       "              <div class=\"df-schema-field\"><strong>relationship: </strong> object</div>\n",
       "            \n",
       "              <div class=\"df-schema-field\"><strong>race: </strong> object</div>\n",
       "            \n",
       "              <div class=\"df-schema-field\"><strong>sex: </strong> object</div>\n",
       "            \n",
       "              <div class=\"df-schema-field\"><strong>capital-gain: </strong> float64</div>\n",
       "            \n",
       "              <div class=\"df-schema-field\"><strong>capital-loss: </strong> float64</div>\n",
       "            \n",
       "              <div class=\"df-schema-field\"><strong>hours-per-week: </strong> float64</div>\n",
       "            \n",
       "              <div class=\"df-schema-field\"><strong>native-country: </strong> object</div>\n",
       "            \n",
       "          </div>\n",
       "        </div>\n",
       "      </div>\n",
       "    </div>\n",
       "    \n",
       "    <!-- dataframe table -->\n",
       "    <div class=\"panel panel-default\">\n",
       "      \n",
       "      <div class=\"panel-heading\">\n",
       "        <h4 class=\"panel-title\" style=\"margin: 0px;\">\n",
       "          <a data-toggle=\"collapse\" href=\"#df-table-d58a4f32\" data-parent=\"#df-table-wrapper-d58a4f32\"> Table</a>\n",
       "        </h4>\n",
       "      </div>\n",
       "      \n",
       "      <div id=\"df-table-d58a4f32\" class=\"panel-collapse collapse in\">\n",
       "        <div class=\"panel-body\">\n",
       "          \n",
       "          <input type=\"text\" class=\"df-table-search form-control input-sm\" placeholder=\"Search table\">\n",
       "          \n",
       "          <div>\n",
       "            \n",
       "            <span class=\"df-table-search-count\">Showing 5 of 5 rows</span>\n",
       "            \n",
       "          </div>\n",
       "          <!-- fixed header for when dataframe table scrolls -->\n",
       "          <div class=\"fixed-header-container\">\n",
       "            <div class=\"fixed-header\">\n",
       "              <div class=\"fixed-row\">\n",
       "                \n",
       "                <div class=\"fixed-cell\">age</div>\n",
       "                \n",
       "                <div class=\"fixed-cell\">workclass</div>\n",
       "                \n",
       "                <div class=\"fixed-cell\">education_level</div>\n",
       "                \n",
       "                <div class=\"fixed-cell\">education-num</div>\n",
       "                \n",
       "                <div class=\"fixed-cell\">marital-status</div>\n",
       "                \n",
       "                <div class=\"fixed-cell\">occupation</div>\n",
       "                \n",
       "                <div class=\"fixed-cell\">relationship</div>\n",
       "                \n",
       "                <div class=\"fixed-cell\">race</div>\n",
       "                \n",
       "                <div class=\"fixed-cell\">sex</div>\n",
       "                \n",
       "                <div class=\"fixed-cell\">capital-gain</div>\n",
       "                \n",
       "                <div class=\"fixed-cell\">capital-loss</div>\n",
       "                \n",
       "                <div class=\"fixed-cell\">hours-per-week</div>\n",
       "                \n",
       "                <div class=\"fixed-cell\">native-country</div>\n",
       "                \n",
       "              </div>\n",
       "            </div>\n",
       "          </div>\n",
       "          <div class=\"df-table-container\">\n",
       "            <table class=\"df-table\">\n",
       "              <thead>\n",
       "                <tr>\n",
       "                  \n",
       "                  <th><div>age</div></th>\n",
       "                  \n",
       "                  <th><div>workclass</div></th>\n",
       "                  \n",
       "                  <th><div>education_level</div></th>\n",
       "                  \n",
       "                  <th><div>education-num</div></th>\n",
       "                  \n",
       "                  <th><div>marital-status</div></th>\n",
       "                  \n",
       "                  <th><div>occupation</div></th>\n",
       "                  \n",
       "                  <th><div>relationship</div></th>\n",
       "                  \n",
       "                  <th><div>race</div></th>\n",
       "                  \n",
       "                  <th><div>sex</div></th>\n",
       "                  \n",
       "                  <th><div>capital-gain</div></th>\n",
       "                  \n",
       "                  <th><div>capital-loss</div></th>\n",
       "                  \n",
       "                  <th><div>hours-per-week</div></th>\n",
       "                  \n",
       "                  <th><div>native-country</div></th>\n",
       "                  \n",
       "                </tr>\n",
       "              </thead>\n",
       "              <tbody>\n",
       "                \n",
       "                <tr>\n",
       "                  \n",
       "                  <td>0.30136986301369856</td>\n",
       "                  \n",
       "                  <td> State-gov</td>\n",
       "                  \n",
       "                  <td> Bachelors</td>\n",
       "                  \n",
       "                  <td>0.8</td>\n",
       "                  \n",
       "                  <td> Never-married</td>\n",
       "                  \n",
       "                  <td> Adm-clerical</td>\n",
       "                  \n",
       "                  <td> Not-in-family</td>\n",
       "                  \n",
       "                  <td> White</td>\n",
       "                  \n",
       "                  <td> Male</td>\n",
       "                  \n",
       "                  <td>0.6674918522581312</td>\n",
       "                  \n",
       "                  <td>0.0</td>\n",
       "                  \n",
       "                  <td>0.39795918367346933</td>\n",
       "                  \n",
       "                  <td> United-States</td>\n",
       "                  \n",
       "                </tr>\n",
       "                \n",
       "                <tr>\n",
       "                  \n",
       "                  <td>0.4520547945205479</td>\n",
       "                  \n",
       "                  <td> Self-emp-not-inc</td>\n",
       "                  \n",
       "                  <td> Bachelors</td>\n",
       "                  \n",
       "                  <td>0.8</td>\n",
       "                  \n",
       "                  <td> Married-civ-spouse</td>\n",
       "                  \n",
       "                  <td> Exec-managerial</td>\n",
       "                  \n",
       "                  <td> Husband</td>\n",
       "                  \n",
       "                  <td> White</td>\n",
       "                  \n",
       "                  <td> Male</td>\n",
       "                  \n",
       "                  <td>0.0</td>\n",
       "                  \n",
       "                  <td>0.0</td>\n",
       "                  \n",
       "                  <td>0.12244897959183672</td>\n",
       "                  \n",
       "                  <td> United-States</td>\n",
       "                  \n",
       "                </tr>\n",
       "                \n",
       "                <tr>\n",
       "                  \n",
       "                  <td>0.2876712328767123</td>\n",
       "                  \n",
       "                  <td> Private</td>\n",
       "                  \n",
       "                  <td> HS-grad</td>\n",
       "                  \n",
       "                  <td>0.5333333333333333</td>\n",
       "                  \n",
       "                  <td> Divorced</td>\n",
       "                  \n",
       "                  <td> Handlers-cleaners</td>\n",
       "                  \n",
       "                  <td> Not-in-family</td>\n",
       "                  \n",
       "                  <td> White</td>\n",
       "                  \n",
       "                  <td> Male</td>\n",
       "                  \n",
       "                  <td>0.0</td>\n",
       "                  \n",
       "                  <td>0.0</td>\n",
       "                  \n",
       "                  <td>0.39795918367346933</td>\n",
       "                  \n",
       "                  <td> United-States</td>\n",
       "                  \n",
       "                </tr>\n",
       "                \n",
       "                <tr>\n",
       "                  \n",
       "                  <td>0.4931506849315069</td>\n",
       "                  \n",
       "                  <td> Private</td>\n",
       "                  \n",
       "                  <td> 11th</td>\n",
       "                  \n",
       "                  <td>0.4</td>\n",
       "                  \n",
       "                  <td> Married-civ-spouse</td>\n",
       "                  \n",
       "                  <td> Handlers-cleaners</td>\n",
       "                  \n",
       "                  <td> Husband</td>\n",
       "                  \n",
       "                  <td> Black</td>\n",
       "                  \n",
       "                  <td> Male</td>\n",
       "                  \n",
       "                  <td>0.0</td>\n",
       "                  \n",
       "                  <td>0.0</td>\n",
       "                  \n",
       "                  <td>0.39795918367346933</td>\n",
       "                  \n",
       "                  <td> United-States</td>\n",
       "                  \n",
       "                </tr>\n",
       "                \n",
       "                <tr>\n",
       "                  \n",
       "                  <td>0.1506849315068493</td>\n",
       "                  \n",
       "                  <td> Private</td>\n",
       "                  \n",
       "                  <td> Bachelors</td>\n",
       "                  \n",
       "                  <td>0.8</td>\n",
       "                  \n",
       "                  <td> Married-civ-spouse</td>\n",
       "                  \n",
       "                  <td> Prof-specialty</td>\n",
       "                  \n",
       "                  <td> Wife</td>\n",
       "                  \n",
       "                  <td> Black</td>\n",
       "                  \n",
       "                  <td> Female</td>\n",
       "                  \n",
       "                  <td>0.0</td>\n",
       "                  \n",
       "                  <td>0.0</td>\n",
       "                  \n",
       "                  <td>0.39795918367346933</td>\n",
       "                  \n",
       "                  <td> Cuba</td>\n",
       "                  \n",
       "                </tr>\n",
       "                \n",
       "              </tbody>\n",
       "            </table>\n",
       "          </div>\n",
       "        </div>\n",
       "      </div>\n",
       "    </div>\n",
       "  </div>\n",
       "  \n",
       "  <script class=\"pd_save\">\n",
       "    $(function() {\n",
       "      var tableWrapper = $('.df-table-wrapper-d58a4f32');\n",
       "      var fixedHeader = $('.fixed-header', tableWrapper);\n",
       "      var tableContainer = $('.df-table-container', tableWrapper);\n",
       "      var table = $('.df-table', tableContainer);\n",
       "      var rows = $('tbody > tr', table);\n",
       "      var total = 5;\n",
       "  \n",
       "      fixedHeader\n",
       "        .css('width', table.width())\n",
       "        .find('.fixed-cell')\n",
       "        .each(function(i, e) {\n",
       "          $(this).css('width', $('.df-table-wrapper-d58a4f32 th:nth-child(' + (i+1) + ')').css('width'));\n",
       "        });\n",
       "  \n",
       "      tableContainer.scroll(function() {\n",
       "        fixedHeader.css({ left: table.position().left });\n",
       "      });\n",
       "  \n",
       "      rows.on(\"click\", function(e){\n",
       "          // var txt = e.delegateTarget.innerText;\n",
       "          var splits = $(e.delegateTarget).text().trim().replace(/[\\n\\r]/g, '\\t').split(\"\\t\").map(function(item){return item.trim()}).filter(function(item){return item!=\"\"});\n",
       "          // var splits = txt.split(\"\\t\");\n",
       "          var len = splits.length;\n",
       "          var hdrs = $(fixedHeader).find(\".fixed-cell\");\n",
       "          // Add all cells in the selected row as a map to be consumed by the target as needed\n",
       "          var payload = {type:\"select\", targetDivId: \"\" };\n",
       "          for (var i = 0; i < len; i++) {\n",
       "            payload[hdrs[i].innerHTML] = splits[i];\n",
       "          }\n",
       "  \n",
       "          //simple selection highlighting, client adds \"selected\" class\n",
       "          $(this).addClass(\"selected\").siblings().removeClass(\"selected\");\n",
       "          $(document).trigger('pd_event', payload);\n",
       "      });\n",
       "  \n",
       "      $('.df-table-search', tableWrapper).keyup(function() {\n",
       "        var val = '^(?=.*\\\\b' + $.trim($(this).val()).split(/\\s+/).join('\\\\b)(?=.*\\\\b') + ').*$';\n",
       "        var reg = RegExp(val, 'i');\n",
       "        var index = 0;\n",
       "        \n",
       "        rows.each(function(i, e) {\n",
       "          if (!reg.test($(this).text().replace(/\\s+/g, ' '))) {\n",
       "            $(this).attr('class', 'hidden');\n",
       "          }\n",
       "          else {\n",
       "            $(this).attr('class', (++index % 2 == 0 ? 'even' : 'odd'));\n",
       "          }\n",
       "        });\n",
       "        $('.df-table-search-count', tableWrapper).html('Showing ' + index + ' of ' + total + ' rows');\n",
       "      });\n",
       "    });\n",
       "  \n",
       "    $(\".df-table-wrapper td:contains('http://')\").each(function(){var tc = this.textContent; $(this).wrapInner(\"<a target='_blank' href='\" + tc + \"'></a>\");});\n",
       "    $(\".df-table-wrapper td:contains('https://')\").each(function(){var tc = this.textContent; $(this).wrapInner(\"<a target='_blank' href='\" + tc + \"'></a>\");});\n",
       "  </script>\n",
       "  \n",
       "        </div>"
      ],
      "text/plain": [
       "<IPython.core.display.HTML object>"
      ]
     },
     "metadata": {},
     "output_type": "display_data"
    }
   ],
   "source": [
    "# Import sklearn.preprocessing.StandardScaler\n",
    "from sklearn.preprocessing import MinMaxScaler\n",
    "\n",
    "# Initialize a scaler, then apply it to the features\n",
    "scaler = MinMaxScaler() # default=(0, 1)\n",
    "numerical = ['age', 'education-num', 'capital-gain', 'capital-loss', 'hours-per-week']\n",
    "\n",
    "features_log_minmax_transform = pd.DataFrame(data = features_log_transformed)\n",
    "features_log_minmax_transform[numerical] = scaler.fit_transform(features_log_transformed[numerical])\n",
    "\n",
    "# Show an example of a record with scaling applied\n",
    "display(features_log_minmax_transform.head(n = 5))"
   ]
  },
  {
   "cell_type": "markdown",
   "metadata": {},
   "source": [
    "### Implementation: Data Preprocessing\n",
    "\n",
    "From the table in **Exploring the Data** above, we can see there are several features for each record that are non-numeric. Typically, learning algorithms expect input to be numeric, which requires that non-numeric features (called *categorical variables*) be converted. One popular way to convert categorical variables is by using the **one-hot encoding** scheme. One-hot encoding creates a _\"dummy\"_ variable for each possible category of each non-numeric feature. For example, assume `someFeature` has three possible entries: `A`, `B`, or `C`. We then encode this feature into `someFeature_A`, `someFeature_B` and `someFeature_C`.\n",
    "\n",
    "|   | someFeature |                    | someFeature_A | someFeature_B | someFeature_C |\n",
    "| :-: | :-: |                            | :-: | :-: | :-: |\n",
    "| 0 |  B  |  | 0 | 1 | 0 |\n",
    "| 1 |  C  | ----> one-hot encode ----> | 0 | 0 | 1 |\n",
    "| 2 |  A  |  | 1 | 0 | 0 |\n",
    "\n",
    "Additionally, as with the non-numeric features, we need to convert the non-numeric target label, `'income'` to numerical values for the learning algorithm to work. Since there are only two possible categories for this label (\"<=50K\" and \">50K\"), we can avoid using one-hot encoding and simply encode these two categories as `0` and `1`, respectively. In code cell below, you will need to implement the following:\n",
    " - Use [`pandas.get_dummies()`](http://pandas.pydata.org/pandas-docs/stable/generated/pandas.get_dummies.html?highlight=get_dummies#pandas.get_dummies) to perform one-hot encoding on the `'features_log_minmax_transform'` data.\n",
    " - Convert the target label `'income_raw'` to numerical entries.\n",
    "   - Set records with \"<=50K\" to `0` and records with \">50K\" to `1`."
   ]
  },
  {
   "cell_type": "code",
   "execution_count": 18,
   "metadata": {
    "scrolled": true
   },
   "outputs": [
    {
     "name": "stdout",
     "output_type": "stream",
     "text": [
      "103 total features after one-hot encoding.\n",
      "['age', 'education-num', 'capital-gain', 'capital-loss', 'hours-per-week', 'workclass_ Federal-gov', 'workclass_ Local-gov', 'workclass_ Private', 'workclass_ Self-emp-inc', 'workclass_ Self-emp-not-inc', 'workclass_ State-gov', 'workclass_ Without-pay', 'education_level_ 10th', 'education_level_ 11th', 'education_level_ 12th', 'education_level_ 1st-4th', 'education_level_ 5th-6th', 'education_level_ 7th-8th', 'education_level_ 9th', 'education_level_ Assoc-acdm', 'education_level_ Assoc-voc', 'education_level_ Bachelors', 'education_level_ Doctorate', 'education_level_ HS-grad', 'education_level_ Masters', 'education_level_ Preschool', 'education_level_ Prof-school', 'education_level_ Some-college', 'marital-status_ Divorced', 'marital-status_ Married-AF-spouse', 'marital-status_ Married-civ-spouse', 'marital-status_ Married-spouse-absent', 'marital-status_ Never-married', 'marital-status_ Separated', 'marital-status_ Widowed', 'occupation_ Adm-clerical', 'occupation_ Armed-Forces', 'occupation_ Craft-repair', 'occupation_ Exec-managerial', 'occupation_ Farming-fishing', 'occupation_ Handlers-cleaners', 'occupation_ Machine-op-inspct', 'occupation_ Other-service', 'occupation_ Priv-house-serv', 'occupation_ Prof-specialty', 'occupation_ Protective-serv', 'occupation_ Sales', 'occupation_ Tech-support', 'occupation_ Transport-moving', 'relationship_ Husband', 'relationship_ Not-in-family', 'relationship_ Other-relative', 'relationship_ Own-child', 'relationship_ Unmarried', 'relationship_ Wife', 'race_ Amer-Indian-Eskimo', 'race_ Asian-Pac-Islander', 'race_ Black', 'race_ Other', 'race_ White', 'sex_ Female', 'sex_ Male', 'native-country_ Cambodia', 'native-country_ Canada', 'native-country_ China', 'native-country_ Columbia', 'native-country_ Cuba', 'native-country_ Dominican-Republic', 'native-country_ Ecuador', 'native-country_ El-Salvador', 'native-country_ England', 'native-country_ France', 'native-country_ Germany', 'native-country_ Greece', 'native-country_ Guatemala', 'native-country_ Haiti', 'native-country_ Holand-Netherlands', 'native-country_ Honduras', 'native-country_ Hong', 'native-country_ Hungary', 'native-country_ India', 'native-country_ Iran', 'native-country_ Ireland', 'native-country_ Italy', 'native-country_ Jamaica', 'native-country_ Japan', 'native-country_ Laos', 'native-country_ Mexico', 'native-country_ Nicaragua', 'native-country_ Outlying-US(Guam-USVI-etc)', 'native-country_ Peru', 'native-country_ Philippines', 'native-country_ Poland', 'native-country_ Portugal', 'native-country_ Puerto-Rico', 'native-country_ Scotland', 'native-country_ South', 'native-country_ Taiwan', 'native-country_ Thailand', 'native-country_ Trinadad&Tobago', 'native-country_ United-States', 'native-country_ Vietnam', 'native-country_ Yugoslavia']\n"
     ]
    }
   ],
   "source": [
    "# TODO: One-hot encode the 'features_log_minmax_transform' data using pandas.get_dummies()\n",
    "features_final = pd.get_dummies(features_log_minmax_transform)\n",
    "\n",
    "# TODO: Encode the 'income_raw' data to numerical values\n",
    "def replace_values_income(x):\n",
    "    if x == '<=50K': return 0\n",
    "    elif x == '>50K': return 1\n",
    "    else: return None\n",
    "   \n",
    "income = income_raw.apply(replace_values_income)\n",
    "\n",
    "# Print the number of features after one-hot encoding\n",
    "encoded = list(features_final.columns)\n",
    "print(\"{} total features after one-hot encoding.\".format(len(encoded)))\n",
    "\n",
    "# Uncomment the following line to see the encoded feature names\n",
    "print (encoded)"
   ]
  },
  {
   "cell_type": "markdown",
   "metadata": {},
   "source": [
    "### Shuffle and Split Data\n",
    "Now all _categorical variables_ have been converted into numerical features, and all numerical features have been normalized. As always, we will now split the data (both features and their labels) into training and test sets. 80% of the data will be used for training and 20% for testing.\n",
    "\n",
    "Run the code cell below to perform this split."
   ]
  },
  {
   "cell_type": "code",
   "execution_count": 19,
   "metadata": {},
   "outputs": [
    {
     "name": "stdout",
     "output_type": "stream",
     "text": [
      "Training set has 36177 samples.\n",
      "Testing set has 9045 samples.\n"
     ]
    }
   ],
   "source": [
    "# Import train_test_split\n",
    "from sklearn.model_selection import train_test_split\n",
    "\n",
    "# Split the 'features' and 'income' data into training and testing sets\n",
    "X_train, X_test, y_train, y_test = train_test_split(features_final, \n",
    "                                                    income, \n",
    "                                                    test_size = 0.2, \n",
    "                                                    random_state = 0)\n",
    "\n",
    "# Show the results of the split\n",
    "print(\"Training set has {} samples.\".format(X_train.shape[0]))\n",
    "print(\"Testing set has {} samples.\".format(X_test.shape[0]))"
   ]
  },
  {
   "cell_type": "markdown",
   "metadata": {},
   "source": [
    "----\n",
    "## Evaluating Model Performance\n",
    "In this section, we will investigate four different algorithms, and determine which is best at modeling the data. Three of these algorithms will be supervised learners of your choice, and the fourth algorithm is known as a *naive predictor*."
   ]
  },
  {
   "cell_type": "markdown",
   "metadata": {},
   "source": [
    "### Metrics and the Naive Predictor\n",
    "*CharityML*, equipped with their research, knows individuals that make more than \\$50,000 are most likely to donate to their charity. Because of this, *CharityML* is particularly interested in predicting who makes more than \\$50,000 accurately. It would seem that using **accuracy** as a metric for evaluating a particular model's performace would be appropriate. Additionally, identifying someone that *does not* make more than \\$50,000 as someone who does would be detrimental to *CharityML*, since they are looking to find individuals willing to donate. Therefore, a model's ability to precisely predict those that make more than \\$50,000 is *more important* than the model's ability to **recall** those individuals. We can use **F-beta score** as a metric that considers both precision and recall:\n",
    "\n",
    "$$ F_{\\beta} = (1 + \\beta^2) \\cdot \\frac{precision \\cdot recall}{\\left( \\beta^2 \\cdot precision \\right) + recall} $$\n",
    "\n",
    "In particular, when $\\beta = 0.5$, more emphasis is placed on precision. This is called the **F$_{0.5}$ score** (or F-score for simplicity).\n",
    "\n",
    "Looking at the distribution of classes (those who make at most \\$50,000, and those who make more), it's clear most individuals do not make more than \\$50,000. This can greatly affect **accuracy**, since we could simply say *\"this person does not make more than \\$50,000\"* and generally be right, without ever looking at the data! Making such a statement would be called **naive**, since we have not considered any information to substantiate the claim. It is always important to consider the *naive prediction* for your data, to help establish a benchmark for whether a model is performing well. That been said, using that prediction would be pointless: If we predicted all people made less than \\$50,000, *CharityML* would identify no one as donors. \n",
    "\n",
    "\n",
    "#### Note: Recap of accuracy, precision, recall\n",
    "\n",
    "** Accuracy ** measures how often the classifier makes the correct prediction. It’s the ratio of the number of correct predictions to the total number of predictions (the number of test data points).\n",
    "\n",
    "** Precision ** tells us what proportion of messages we classified as spam, actually were spam.\n",
    "It is a ratio of true positives(words classified as spam, and which are actually spam) to all positives(all words classified as spam, irrespective of whether that was the correct classificatio), in other words it is the ratio of\n",
    "\n",
    "`[True Positives/(True Positives + False Positives)]`\n",
    "\n",
    "** Recall(sensitivity)** tells us what proportion of messages that actually were spam were classified by us as spam.\n",
    "It is a ratio of true positives(words classified as spam, and which are actually spam) to all the words that were actually spam, in other words it is the ratio of\n",
    "\n",
    "`[True Positives/(True Positives + False Negatives)]`\n",
    "\n",
    "For classification problems that are skewed in their classification distributions like in our case, for example if we had a 100 text messages and only 2 were spam and the rest 98 weren't, accuracy by itself is not a very good metric. We could classify 90 messages as not spam(including the 2 that were spam but we classify them as not spam, hence they would be false negatives) and 10 as spam(all 10 false positives) and still get a reasonably good accuracy score. For such cases, precision and recall come in very handy. These two metrics can be combined to get the F1 score, which is weighted average(harmonic mean) of the precision and recall scores. This score can range from 0 to 1, with 1 being the best possible F1 score(we take the harmonic mean as we are dealing with ratios)."
   ]
  },
  {
   "cell_type": "markdown",
   "metadata": {},
   "source": [
    "### Question 1 - Naive Predictor Performace\n",
    "* If we chose a model that always predicted an individual made more than $50,000, what would  that model's accuracy and F-score be on this dataset? You must use the code cell below and assign your results to `'accuracy'` and `'fscore'` to be used later.\n",
    "\n",
    "** Please note ** that the the purpose of generating a naive predictor is simply to show what a base model without any intelligence would look like. In the real world, ideally your base model would be either the results of a previous model or could be based on a research paper upon which you are looking to improve. When there is no benchmark model set, getting a result better than random choice is a place you could start from.\n",
    "\n",
    "** HINT: ** \n",
    "\n",
    "* When we have a model that always predicts '1' (i.e. the individual makes more than 50k) then our model will have no True Negatives(TN) or False Negatives(FN) as we are not making any negative('0' value) predictions. Therefore our Accuracy in this case becomes the same as our Precision(True Positives/(True Positives + False Positives)) as every prediction that we have made with value '1' that should have '0' becomes a False Positive; therefore our denominator in this case is the total number of records we have in total. \n",
    "* Our Recall score(True Positives/(True Positives + False Negatives)) in this setting becomes 1 as we have no False Negatives."
   ]
  },
  {
   "cell_type": "code",
   "execution_count": 20,
   "metadata": {},
   "outputs": [
    {
     "name": "stdout",
     "output_type": "stream",
     "text": [
      "Naive Predictor: [Accuracy score: 0.2478, F-score: 0.2917]\n"
     ]
    }
   ],
   "source": [
    "'''\n",
    "TP = np.sum(income) # Counting the ones as this is the naive case. Note that 'income' is the 'income_raw' data \n",
    "encoded to numerical values done in the data preprocessing step.\n",
    "FP = income.count() - TP # Specific to the naive case\n",
    "\n",
    "TN = 0 # No predicted negatives in the naive case\n",
    "FN = 0 # No predicted negatives in the naive case\n",
    "'''\n",
    "tp = np.sum(income)\n",
    "fp = income.count() - tp\n",
    "tn = 0\n",
    "fn = 0\n",
    "\n",
    "# TODO: Calculate accuracy, precision and recall\n",
    "accuracy = income.mean()\n",
    "precision = tp/(tp + fp)\n",
    "recall = tp/(tp + fn)\n",
    "\n",
    "# TODO: Calculate F-score using the formula above for beta = 0.5 and correct values for precision and recall.\n",
    "fscore = (1 + 0.5 * 0.5) * precision * recall / ((0.5 * 0.5 * precision) + recall)\n",
    "\n",
    "# Print the results \n",
    "print(\"Naive Predictor: [Accuracy score: {:.4f}, F-score: {:.4f}]\".format(accuracy, fscore))"
   ]
  },
  {
   "cell_type": "markdown",
   "metadata": {},
   "source": [
    "###  Supervised Learning Models\n",
    "**The following are some of the supervised learning models that are currently available in** [`scikit-learn`](http://scikit-learn.org/stable/supervised_learning.html) **that you may choose from:**\n",
    "- Gaussian Naive Bayes (GaussianNB)\n",
    "- Decision Trees\n",
    "- Ensemble Methods (Bagging, AdaBoost, Random Forest, Gradient Boosting)\n",
    "- K-Nearest Neighbors (KNeighbors)\n",
    "- Stochastic Gradient Descent Classifier (SGDC)\n",
    "- Support Vector Machines (SVM)\n",
    "- Logistic Regression"
   ]
  },
  {
   "cell_type": "markdown",
   "metadata": {},
   "source": [
    "### Question 2 - Model Application\n",
    "List three of the supervised learning models above that are appropriate for this problem that you will test on the census data. For each model chosen\n",
    "\n",
    "- Describe one real-world application in industry where the model can be applied. \n",
    "- What are the strengths of the model; when does it perform well?\n",
    "- What are the weaknesses of the model; when does it perform poorly?\n",
    "- What makes this model a good candidate for the problem, given what you know about the data?\n",
    "\n",
    "** HINT: **\n",
    "\n",
    "Structure your answer in the same format as above^, with 4 parts for each of the three models you pick. Please include references with your answer."
   ]
  },
  {
   "cell_type": "markdown",
   "metadata": {},
   "source": [
    "**Answer: **\n",
    "Decision Tree Classifier\n",
    "\n",
    "a) Real world application for decisiontree would be around IT project management where you need to consider taking on a project based on consequences and outcomes. Another application would be around classifying customers who are safe or risky while evaluating loan applications (\n",
    "b) Stengths of the model is very easy to understand and interpret. The process by which we reach prediction is transparent.It requires fewer data preprocessing and there is no need to normalize columns (https://medium.com/@dhiraj8899/top-5-advantages-and-disadvantages-of-decision-tree-algorithm-428ebd199d9a\n",
    "c) Weakness is that a small change in data can result into different tree. It often requires higher time to train and can become costly and time consuming. Another weakness is that it is very easy to build a decison tree that are overfitted to the training dataset.\n",
    "d) Decision tree algorithm can be used to solve both regression and classification problems. It is simple and able to generate decision rules, performance can be improved using gridsearch for parameters tuning.\n",
    "\n",
    "**GaussianNB\n",
    "\n",
    "a) Naives Bayes can be used for text classification. Another example is around sentiment analysis on weather a person will go shopping based on weather conditions.(https://www.educba.com/naive-bayes-algorithm/)\n",
    "b) Strengths of using this algorithm is that it is easy to implement, require less training data and works with dataset that has many features due to the fact that it can make probablistic predictions.\n",
    "c)Weakness of this alogrithm is that it does not work well with incomplete data.We assume that the features are independent so any insights from correlation might be lost. Another weakness is that if the category of any categorical variable is not seen in training data set then model assigns a zero probability to that category and then a prediction cannot be made\n",
    "d) Gaussian Naive Bayes Algorithm assumes that the continuous values corresponding to each feature are distributed according to normal distribution. It is a good candidate to solving the problem as the dataset has a lot of features.(https://en.wikipedia.org/wiki/Naive_Bayes_classifier)\n",
    "\n",
    "**Gradient Boosting Classifier(Ensemble Method)\n",
    "\n",
    "a) Real world application of GB Classifier can be used in the field of learning to rank.It can also be used for anamoly detection for example credit card fraund transactions(https://en.wikipedia.org/wiki/Gradient_boosting)\n",
    "b) Strengths of GB classifier is that often provides predictive accuracy with great precision. One can optimize different loss functions and hyperparameter tuning that fit the function.Works best with categorical values.\n",
    "c) Weakness is that training takes longer time as tress are built sequentially. They are sensitive to overfitting if the data is noisy and it can be expensive.(https://www.quora.com/What-are-the-advantages-disadvantages-of-using-Gradient-Boosting-over-Random-Forests)\n",
    "d) The GB algorithm sequentially apply the weak classification algorithm to repeatedly modified versions of the data, thereby producing a sequence of weak classifiers.In each round of training, the weak learner is built and its predictions are compared to the correct outcome that we expect. I choose this model as we combining predictions from multiple models and taking boosted model predictions.  (https://data-flair.training/blogs/gradient-boosting-algorithm/)\n"
   ]
  },
  {
   "cell_type": "markdown",
   "metadata": {},
   "source": [
    "### Implementation - Creating a Training and Predicting Pipeline\n",
    "To properly evaluate the performance of each model you've chosen, it's important that you create a training and predicting pipeline that allows you to quickly and effectively train models using various sizes of training data and perform predictions on the testing data. Your implementation here will be used in the following section.\n",
    "In the code block below, you will need to implement the following:\n",
    " - Import `fbeta_score` and `accuracy_score` from [`sklearn.metrics`](http://scikit-learn.org/stable/modules/classes.html#sklearn-metrics-metrics).\n",
    " - Fit the learner to the sampled training data and record the training time.\n",
    " - Perform predictions on the test data `X_test`, and also on the first 300 training points `X_train[:300]`.\n",
    "   - Record the total prediction time.\n",
    " - Calculate the accuracy score for both the training subset and testing set.\n",
    " - Calculate the F-score for both the training subset and testing set.\n",
    "   - Make sure that you set the `beta` parameter!"
   ]
  },
  {
   "cell_type": "code",
   "execution_count": 21,
   "metadata": {},
   "outputs": [],
   "source": [
    "# TODO: Import two metrics from sklearn - fbeta_score and accuracy_score\n",
    "from sklearn.metrics import fbeta_score, accuracy_score\n",
    "def train_predict(learner, sample_size, X_train, y_train, X_test, y_test): \n",
    "    '''\n",
    "    inputs:\n",
    "       - learner: the learning algorithm to be trained and predicted on\n",
    "       - sample_size: the size of samples (number) to be drawn from training set\n",
    "       - X_train: features training set\n",
    "       - y_train: income training set\n",
    "       - X_test: features testing set\n",
    "       - y_test: income testing set\n",
    "    '''\n",
    "    \n",
    "    results = {}\n",
    "    \n",
    "    # TODO: Fit the learner to the training data using slicing with 'sample_size' using .fit(training_features[:], training_labels[:])\n",
    "    start = time() # Get start time\n",
    "    learner.fit(X_train[:sample_size], y_train[:sample_size])\n",
    "    end = time() # Get end time\n",
    "    \n",
    "    # TODO: Calculate the training time\n",
    "    results['train_time'] = end - start\n",
    "        \n",
    "    # TODO: Get the predictions on the test set(X_test),\n",
    "    #       then get predictions on the first 300 training samples(X_train) using .predict()\n",
    "    start = time() # Get start time\n",
    "    predictions_test = learner.predict(X_test)\n",
    "    predictions_train = learner.predict(X_train[:300])\n",
    "    end = time() # Get end time\n",
    "    \n",
    "    # TODO: Calculate the total prediction time\n",
    "    results['pred_time'] = end - start\n",
    "            \n",
    "    # TODO: Compute accuracy on the first 300 training samples which is y_train[:300]\n",
    "    results['acc_train'] = accuracy_score(y_train[:300], predictions_train)\n",
    "        \n",
    "    # TODO: Compute accuracy on test set using accuracy_score()\n",
    "    results['acc_test'] = accuracy_score(y_test, predictions_test)\n",
    "    \n",
    "    # TODO: Compute F-score on the the first 300 training samples using fbeta_score()\n",
    "    results['f_train'] = fbeta_score(y_train[:300], predictions_train,0.5)\n",
    "    #results['f_train'] = fbeta_score(y_train[:300],predictions_train,beta=0.5)    \n",
    "    \n",
    "    results['f_test'] = fbeta_score(y_test, predictions_test,0.5)\n",
    "       \n",
    "    # Success\n",
    "    print(\"{} trained on {} samples.\".format(learner.__class__.__name__, sample_size))\n",
    "        \n",
    "    # Return the results\n",
    "    return results"
   ]
  },
  {
   "cell_type": "markdown",
   "metadata": {},
   "source": [
    "### Implementation: Initial Model Evaluation\n",
    "In the code cell, you will need to implement the following:\n",
    "- Import the three supervised learning models you've discussed in the previous section.\n",
    "- Initialize the three models and store them in `'clf_A'`, `'clf_B'`, and `'clf_C'`.\n",
    "  - Use a `'random_state'` for each model you use, if provided.\n",
    "  - **Note:** Use the default settings for each model — you will tune one specific model in a later section.\n",
    "- Calculate the number of records equal to 1%, 10%, and 100% of the training data.\n",
    "  - Store those values in `'samples_1'`, `'samples_10'`, and `'samples_100'` respectively.\n",
    "\n",
    "**Note:** Depending on which algorithms you chose, the following implementation may take some time to run!"
   ]
  },
  {
   "cell_type": "code",
   "execution_count": 22,
   "metadata": {},
   "outputs": [
    {
     "name": "stdout",
     "output_type": "stream",
     "text": [
      "DecisionTreeClassifier trained on 361 samples.\n",
      "DecisionTreeClassifier trained on 3617 samples.\n",
      "DecisionTreeClassifier trained on 36177 samples.\n",
      "GaussianNB trained on 361 samples.\n",
      "GaussianNB trained on 3617 samples.\n",
      "GaussianNB trained on 36177 samples.\n",
      "GradientBoostingClassifier trained on 361 samples.\n",
      "GradientBoostingClassifier trained on 3617 samples.\n",
      "GradientBoostingClassifier trained on 36177 samples.\n"
     ]
    },
    {
     "name": "stderr",
     "output_type": "stream",
     "text": [
      "/Users/nerav/Documents/GitHub/DSND_Term1/projects/p1_charityml/visuals.py:118: UserWarning: Tight layout not applied. tight_layout cannot make axes width small enough to accommodate all axes decorations\n",
      "  pl.tight_layout()\n"
     ]
    },
    {
     "data": {
      "image/png": "[encoded data removed]",
      "text/plain": [
       "<Figure size 792x504 with 6 Axes>"
      ]
     },
     "metadata": {},
     "output_type": "display_data"
    }
   ],
   "source": [
    "# TODO: Import the three supervised learning models from sklearn\n",
    "from sklearn.tree import DecisionTreeClassifier\n",
    "from sklearn.svm import SVC\n",
    "from sklearn.naive_bayes import GaussianNB\n",
    "from sklearn.ensemble import AdaBoostClassifier\n",
    "from sklearn.ensemble import RandomForestClassifier\n",
    "from sklearn.ensemble import GradientBoostingClassifier\n",
    "\n",
    "# TODO: Initialize the three models\n",
    "clf_A = DecisionTreeClassifier(random_state=42)\n",
    "clf_B = GaussianNB()\n",
    "clf_C = GradientBoostingClassifier()\n",
    "\n",
    "# TODO: Calculate the number of samples for 1%, 10%, and 100% of the training data\n",
    "# HINT: samples_100 is the entire training set i.e. len(y_train)\n",
    "# HINT: samples_10 is 10% of samples_100 (ensure to set the count of the values to be `int` and not `float`)\n",
    "# HINT: samples_1 is 1% of samples_100 (ensure to set the count of the values to be `int` and not `float`)\n",
    "samples_100 = len(y_train)\n",
    "samples_10 = int(len(y_train) * 0.1)\n",
    "samples_1 = int(len(y_train) * 0.01)\n",
    "\n",
    "# Collect results on the learners\n",
    "results = {}\n",
    "for clf in [clf_A, clf_B, clf_C]:\n",
    "    clf_name = clf.__class__.__name__\n",
    "    results[clf_name] = {}\n",
    "    for i, samples in enumerate([samples_1, samples_10, samples_100]):\n",
    "        results[clf_name][i] = \\\n",
    "        train_predict(clf, samples, X_train, y_train, X_test, y_test)\n",
    "\n",
    "# Run metrics visualization for the three supervised learning models chosen\n",
    "vs.evaluate(results, accuracy, fscore)"
   ]
  },
  {
   "cell_type": "markdown",
   "metadata": {},
   "source": [
    "----\n",
    "## Improving Results\n",
    "In this final section, you will choose from the three supervised learning models the *best* model to use on the student data. You will then perform a grid search optimization for the model over the entire training set (`X_train` and `y_train`) by tuning at least one parameter to improve upon the untuned model's F-score. "
   ]
  },
  {
   "cell_type": "markdown",
   "metadata": {},
   "source": [
    "### Question 3 - Choosing the Best Model\n",
    "\n",
    "* Based on the evaluation you performed earlier, in one to two paragraphs, explain to *CharityML* which of the three models you believe to be most appropriate for the task of identifying individuals that make more than \\$50,000. \n",
    "\n",
    "** HINT: ** \n",
    "Look at the graph at the bottom left from the cell above(the visualization created by `vs.evaluate(results, accuracy, fscore)`) and check the F score for the testing set when 100% of the training set is used. Which model has the highest score? Your answer should include discussion of the:\n",
    "* metrics - F score on the testing when 100% of the training data is used, \n",
    "* prediction/training time\n",
    "* the algorithm's suitability for the data."
   ]
  },
  {
   "cell_type": "markdown",
   "metadata": {},
   "source": [
    "**Answer: **\n",
    "\n",
    "When I look at all 3 models, it is interesting that GaussianNB is worst of all 3 and we can discard those. When we look at the training subset dataset decision tree classifier looks good but takes more time. The accuracy and F1 score is better on testing dataset when we look at gradient boosting classifier. Therefore I think the best model for identifying indiviuals for charity would be Gradient Descent boosting classifier.\n"
   ]
  },
  {
   "cell_type": "markdown",
   "metadata": {},
   "source": [
    "### Question 4 - Describing the Model in Layman's Terms\n",
    "\n",
    "* In one to two paragraphs, explain to *CharityML*, in layman's terms, how the final model chosen is supposed to work. Be sure that you are describing the major qualities of the model, such as how the model is trained and how the model makes a prediction. Avoid using advanced mathematical jargon, such as describing equations.\n",
    "\n",
    "** HINT: **\n",
    "\n",
    "When explaining your model, if using external resources please include all citations."
   ]
  },
  {
   "attachments": {},
   "cell_type": "markdown",
   "metadata": {},
   "source": [
    "**Answer: ** \n",
    "\n",
    "Gradient Boosting Classifier is one of the powerful classification algorithms. They are ensemble of decision tree parameters.It trains a sequence of decision trees iteratively. On each iteration it trains to predict current ensemble and compares it to true predictors. It then changes the dataset with emphasis on poor predictions. With each iteration it reduces teh loss function. Gradient boosting involves three elements a loss function to be optimized, a weak learner to make predictions and an additive model to add weak learners to minimize the loss function.(https://machinelearningmastery.com/gentle-introduction-gradient-boosting-algorithm-machine-learning/)"
   ]
  },
  {
   "cell_type": "markdown",
   "metadata": {},
   "source": [
    "### Implementation: Model Tuning\n",
    "Fine tune the chosen model. Use grid search (`GridSearchCV`) with at least one important parameter tuned with at least 3 different values. You will need to use the entire training set for this. In the code cell below, you will need to implement the following:\n",
    "- Import [`sklearn.grid_search.GridSearchCV`](http://scikit-learn.org/0.17/modules/generated/sklearn.grid_search.GridSearchCV.html) and [`sklearn.metrics.make_scorer`](http://scikit-learn.org/stable/modules/generated/sklearn.metrics.make_scorer.html).\n",
    "- Initialize the classifier you've chosen and store it in `clf`.\n",
    " - Set a `random_state` if one is available to the same state you set before.\n",
    "- Create a dictionary of parameters you wish to tune for the chosen model.\n",
    " - Example: `parameters = {'parameter' : [list of values]}`.\n",
    " - **Note:** Avoid tuning the `max_features` parameter of your learner if that parameter is available!\n",
    "- Use `make_scorer` to create an `fbeta_score` scoring object (with $\\beta = 0.5$).\n",
    "- Perform grid search on the classifier `clf` using the `'scorer'`, and store it in `grid_obj`.\n",
    "- Fit the grid search object to the training data (`X_train`, `y_train`), and store it in `grid_fit`.\n",
    "\n",
    "**Note:** Depending on the algorithm chosen and the parameter list, the following implementation may take some time to run!"
   ]
  },
  {
   "cell_type": "code",
   "execution_count": 23,
   "metadata": {},
   "outputs": [
    {
     "name": "stdout",
     "output_type": "stream",
     "text": [
      "Unoptimized model\n",
      "------\n",
      "Accuracy score on testing data: 0.8630\n",
      "F-score on testing data: 0.7395\n",
      "\n",
      "Optimized Model\n",
      "------\n",
      "Final accuracy score on the testing data: 0.8711\n",
      "Final F-score on the testing data: 0.7520\n"
     ]
    }
   ],
   "source": [
    "# TODO: Import 'GridSearchCV', 'make_scorer', and any other necessary libraries\n",
    "from sklearn.metrics import make_scorer\n",
    "from sklearn.model_selection import GridSearchCV\n",
    "\n",
    "# TODO: Initialize the classifier\n",
    "clf = GradientBoostingClassifier(random_state=0)\n",
    "\n",
    "# TODO: Create the parameters list you wish to tune, using a dictionary if needed.\n",
    "# HINT: parameters = {'parameter_1': [value1, value2], 'parameter_2': [value1, value2]}\n",
    "parameters = { 'max_depth': np.arange(2,10,5), \n",
    "               'min_samples_leaf': [3, 5, 10], \n",
    "               'n_estimators': [100, 150, 200]  }\n",
    "\n",
    "# TODO: Make an fbeta_score scoring object using make_scorer()\n",
    "scorer = make_scorer(fbeta_score, beta=0.5)\n",
    "\n",
    "# TODO: Perform grid search on the classifier using 'scorer' as the scoring method using GridSearchCV()\n",
    "grid_obj = GridSearchCV(clf, parameters, scoring=scorer)\n",
    "\n",
    "# TODO: Fit the grid search object to the training data and find the optimal parameters using fit()\n",
    "grid_fit = grid_obj.fit(X_train, y_train)\n",
    "\n",
    "# Get the estimator\n",
    "best_clf = grid_fit.best_estimator_\n",
    "\n",
    "# Make predictions using the unoptimized and model\n",
    "predictions = (clf.fit(X_train, y_train)).predict(X_test)\n",
    "best_predictions = best_clf.predict(X_test)\n",
    "\n",
    "# Report the before-and-afterscores\n",
    "print(\"Unoptimized model\\n------\")\n",
    "print(\"Accuracy score on testing data: {:.4f}\".format(accuracy_score(y_test, predictions)))\n",
    "print(\"F-score on testing data: {:.4f}\".format(fbeta_score(y_test, predictions, beta = 0.5)))\n",
    "print(\"\\nOptimized Model\\n------\")\n",
    "print(\"Final accuracy score on the testing data: {:.4f}\".format(accuracy_score(y_test, best_predictions)))\n",
    "print(\"Final F-score on the testing data: {:.4f}\".format(fbeta_score(y_test, best_predictions, beta = 0.5)))"
   ]
  },
  {
   "cell_type": "markdown",
   "metadata": {},
   "source": [
    "### Question 5 - Final Model Evaluation\n",
    "\n",
    "* What is your optimized model's accuracy and F-score on the testing data? \n",
    "* Are these scores better or worse than the unoptimized model? \n",
    "* How do the results from your optimized model compare to the naive predictor benchmarks you found earlier in **Question 1**?_  \n",
    "\n",
    "**Note:** Fill in the table below with your results, and then provide discussion in the **Answer** box."
   ]
  },
  {
   "cell_type": "markdown",
   "metadata": {},
   "source": [
    "#### Results:\n",
    "\n",
    "|     Metric     | Unoptimized Model | Optimized Model |\n",
    "| :------------: | :---------------: | :-------------: | \n",
    "| Accuracy Score |       0.8630            |  0.8711               |\n",
    "| F-score        |         0.7395          |   0.7520      |\n"
   ]
  },
  {
   "cell_type": "markdown",
   "metadata": {},
   "source": [
    "**Answer: **\n",
    "\n",
    "The scores are better than unoptimized model\n",
    "Gradient Boosting Classifier perfoms a lot better, almost 3x better on accuracy and 2.5x better F1 scores than Naive predictor."
   ]
  },
  {
   "cell_type": "markdown",
   "metadata": {},
   "source": [
    "----\n",
    "## Feature Importance\n",
    "\n",
    "An important task when performing supervised learning on a dataset like the census data we study here is determining which features provide the most predictive power. By focusing on the relationship between only a few crucial features and the target label we simplify our understanding of the phenomenon, which is most always a useful thing to do. In the case of this project, that means we wish to identify a small number of features that most strongly predict whether an individual makes at most or more than \\$50,000.\n",
    "\n",
    "Choose a scikit-learn classifier (e.g., adaboost, random forests) that has a `feature_importance_` attribute, which is a function that ranks the importance of features according to the chosen classifier.  In the next python cell fit this classifier to training set and use this attribute to determine the top 5 most important features for the census dataset."
   ]
  },
  {
   "cell_type": "markdown",
   "metadata": {},
   "source": [
    "### Question 6 - Feature Relevance Observation\n",
    "When **Exploring the Data**, it was shown there are thirteen available features for each individual on record in the census data. Of these thirteen records, which five features do you believe to be most important for prediction, and in what order would you rank them and why?"
   ]
  },
  {
   "cell_type": "markdown",
   "metadata": {},
   "source": [
    "**Answer:**\n",
    "\n",
    "education-num: continuous.\n",
    "\n",
    "marital-status: Married-civ-spouse, Divorced, Never-married, Separated, Widowed, Married-spouse-absent, Married-AF-spouse.\n",
    "\n",
    "capital-gain: continuous.\n",
    "\n",
    "capital-loss: continuous.\n",
    "\n",
    "age: continuous."
   ]
  },
  {
   "cell_type": "markdown",
   "metadata": {},
   "source": [
    "### Implementation - Extracting Feature Importance\n",
    "Choose a `scikit-learn` supervised learning algorithm that has a `feature_importance_` attribute availble for it. This attribute is a function that ranks the importance of each feature when making predictions based on the chosen algorithm.\n",
    "\n",
    "In the code cell below, you will need to implement the following:\n",
    " - Import a supervised learning model from sklearn if it is different from the three used earlier.\n",
    " - Train the supervised model on the entire training set.\n",
    " - Extract the feature importances using `'.feature_importances_'`."
   ]
  },
  {
   "cell_type": "code",
   "execution_count": 24,
   "metadata": {},
   "outputs": [
    {
     "data": {
      "image/png": "[encoded data removed]",
      "text/plain": [
       "<Figure size 648x360 with 1 Axes>"
      ]
     },
     "metadata": {},
     "output_type": "display_data"
    }
   ],
   "source": [
    "# TODO: Import a supervised learning model that has 'feature_importances_'\n",
    "from sklearn.ensemble import GradientBoostingClassifier\n",
    "\n",
    "\n",
    "# TODO: Train the supervised model on the training set using .fit(X_train, y_train)\n",
    "model = GradientBoostingClassifier(random_state=0)\n",
    "model.fit(X_train, y_train)\n",
    "\n",
    "# TODO: Extract the feature importances using .feature_importances_ \n",
    "importances = model.feature_importances_\n",
    "\n",
    "\n",
    "# Plot\n",
    "vs.feature_plot(importances, X_train, y_train)"
   ]
  },
  {
   "cell_type": "markdown",
   "metadata": {},
   "source": [
    "### Question 7 - Extracting Feature Importance\n",
    "\n",
    "Observe the visualization created above which displays the five most relevant features for predicting if an individual makes at most or above \\$50,000.  \n",
    "* How do these five features compare to the five features you discussed in **Question 6**?\n",
    "* If you were close to the same answer, how does this visualization confirm your thoughts? \n",
    "* If you were not close, why do you think these features are more relevant?"
   ]
  },
  {
   "cell_type": "markdown",
   "metadata": {},
   "source": [
    "**Answer:**\n",
    "\n",
    "When I compare my initution with feature importance I was correct on the features was bit surprised that martial status had lot more important than education. "
   ]
  },
  {
   "cell_type": "markdown",
   "metadata": {},
   "source": [
    "### Feature Selection\n",
    "How does a model perform if we only use a subset of all the available features in the data? With less features required to train, the expectation is that training and prediction time is much lower — at the cost of performance metrics. From the visualization above, we see that the top five most important features contribute more than half of the importance of **all** features present in the data. This hints that we can attempt to *reduce the feature space* and simplify the information required for the model to learn. The code cell below will use the same optimized model you found earlier, and train it on the same training set *with only the top five important features*. "
   ]
  },
  {
   "cell_type": "code",
   "execution_count": 25,
   "metadata": {},
   "outputs": [
    {
     "name": "stdout",
     "output_type": "stream",
     "text": [
      "Final Model trained on full data\n",
      "------\n",
      "Accuracy on testing data: 0.8711\n",
      "F-score on testing data: 0.7520\n",
      "\n",
      "Final Model trained on reduced data\n",
      "------\n",
      "Accuracy on testing data: 0.8573\n",
      "F-score on testing data: 0.7207\n"
     ]
    }
   ],
   "source": [
    "# Import functionality for cloning a model\n",
    "from sklearn.base import clone\n",
    "\n",
    "# Reduce the feature space\n",
    "X_train_reduced = X_train[X_train.columns.values[(np.argsort(importances)[::-1])[:5]]]\n",
    "X_test_reduced = X_test[X_test.columns.values[(np.argsort(importances)[::-1])[:5]]]\n",
    "\n",
    "# Train on the \"best\" model found from grid search earlier\n",
    "clf = (clone(best_clf)).fit(X_train_reduced, y_train)\n",
    "\n",
    "# Make new predictions\n",
    "reduced_predictions = clf.predict(X_test_reduced)\n",
    "\n",
    "# Report scores from the final model using both versions of data\n",
    "print(\"Final Model trained on full data\\n------\")\n",
    "print(\"Accuracy on testing data: {:.4f}\".format(accuracy_score(y_test, best_predictions)))\n",
    "print(\"F-score on testing data: {:.4f}\".format(fbeta_score(y_test, best_predictions, beta = 0.5)))\n",
    "print(\"\\nFinal Model trained on reduced data\\n------\")\n",
    "print(\"Accuracy on testing data: {:.4f}\".format(accuracy_score(y_test, reduced_predictions)))\n",
    "print(\"F-score on testing data: {:.4f}\".format(fbeta_score(y_test, reduced_predictions, beta = 0.5)))"
   ]
  },
  {
   "cell_type": "markdown",
   "metadata": {},
   "source": [
    "### Question 8 - Effects of Feature Selection\n",
    "\n",
    "* How does the final model's F-score and accuracy score on the reduced data using only five features compare to those same scores when all features are used?\n",
    "* If training time was a factor, would you consider using the reduced data as your training set?"
   ]
  },
  {
   "cell_type": "markdown",
   "metadata": {},
   "source": [
    "**Answer:**\n",
    "\n",
    "The accuracy and F1 score decreased with reduced data set. This means that other features had some influnce on the model. Since I would like to focus on precision I would use full dataset even if it took more time to train."
   ]
  },
  {
   "cell_type": "markdown",
   "metadata": {},
   "source": [
    "> **Note**: Once you have completed all of the code implementations and successfully answered each question above, you may finalize your work by exporting the iPython Notebook as an HTML document. You can do this by using the menu above and navigating to  \n",
    "**File -> Download as -> HTML (.html)**. Include the finished document along with this notebook as your submission."
   ]
  }
 ],
 "metadata": {
  "kernelspec": {
   "display_name": "Python 3",
   "language": "python",
   "name": "python3"
  },
  "language_info": {
   "codemirror_mode": {
    "name": "ipython",
    "version": 3
   },
   "file_extension": ".py",
   "mimetype": "text/x-python",
   "name": "python",
   "nbconvert_exporter": "python",
   "pygments_lexer": "ipython3",
   "version": "3.7.7"
  }
 },
 "nbformat": 4,
 "nbformat_minor": 4
}
